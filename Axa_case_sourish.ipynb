{
 "cells": [
  {
   "cell_type": "markdown",
   "metadata": {},
   "source": [
    "## This jupyter notebook contains deep dive in the data provided by AXA to understand the data to find answers of the following perceptions."
   ]
  },
  {
   "cell_type": "code",
   "execution_count": null,
   "metadata": {},
   "outputs": [],
   "source": [
    "#Necessary package installation\n",
    "\n",
    "import os\n",
    "import numpy as np\n",
    "from numpy import genfromtxt\n",
    "import pandas as pd\n",
    "import tqdm\n",
    "import cv2\n",
    "from scipy.spatial import distance\n",
    "from PIL import Image\n",
    "from sklearn.preprocessing import OneHotEncoder,LabelEncoder\n",
    "from sklearn.cross_validation import train_test_split\n",
    "import matplotlib.pyplot as plt\n",
    "import plotly.plotly as py\n",
    "import plotly.graph_objs as go\n",
    "from plotly.tools import FigureFactory as FF\n",
    "import scipy"
   ]
  },
  {
   "cell_type": "markdown",
   "metadata": {},
   "source": [
    "### Q1) 1.\tFirst we have a problem in the consistency in the way the motor make and motor model is entered (e.g. Corll instead of Corolla or VW instead of Volkswagen) Can you propose a logic to fix these inconstancies. Note the that there are multiple ways to do it and you will be scored on the percentage of the reduced inconsistencies. "
   ]
  },
  {
   "cell_type": "code",
   "execution_count": 227,
   "metadata": {},
   "outputs": [
    {
     "data": {
      "text/plain": [
       "Index(['CU_CU_ID', 'GE_GDR_NM', 'CO_CNTY_NM', 'NUM_OF_ADD',\n",
       "       'CO_NATLY_CNTY_CODE', 'DR_CUSTOMER_AGE', 'PROPERTY_POLICY_COUNT',\n",
       "       'HEALTH_POLICY_COUNT', 'CASUALTY_POLICY_COUNT', 'DR_MOTOR_POL_ACTIVE',\n",
       "       'TOTAL_MOTOR_POLICY_COUNT', 'PLC_DTL_VEH_MAKE_CODE',\n",
       "       'PLC_DTL_VEH_MODEL', 'PLC_DTL_VEH_VERSION', 'MOMA_MOT_MAKE_NM',\n",
       "       'PLC_DTL_VEH_PRICE_AED', 'make_corrected', 'CO_NATLY_CNTY_CODE_grouped',\n",
       "       'AED_group', 'nation_group'],\n",
       "      dtype='object')"
      ]
     },
     "execution_count": 227,
     "metadata": {},
     "output_type": "execute_result"
    }
   ],
   "source": [
    "os.chdir('D:/data_science/axa_assessment')\n",
    "data = pd.read_csv('D:/data_science/axa_assessment/assessment_data2.csv')\n",
    "data.columns"
   ]
  },
  {
   "cell_type": "code",
   "execution_count": 8,
   "metadata": {},
   "outputs": [
    {
     "data": {
      "text/plain": [
       "TOYOTA              8191\n",
       "NISSAN  P           2045\n",
       "FORD                2028\n",
       "LEXUS RX30          1720\n",
       "MITSUBISHI          1596\n",
       "BMW                 1578\n",
       "HONDA               1478\n",
       "JEEP                1210\n",
       "MERCEDES            1178\n",
       "LAND ROVER          1170\n",
       "GMC                 1021\n",
       "CHEVROLETT           919\n",
       "TOYOTAL              887\n",
       "HYUND                878\n",
       "VOLKSWAGEN           835\n",
       "KIA                  704\n",
       "AUDI                 646\n",
       "PORSCHE              590\n",
       "MAZDA                477\n",
       "DODGE                420\n",
       "INFINITI             398\n",
       "SUZUKI GR            270\n",
       "NISSAN               269\n",
       "TOYOTA 15            236\n",
       "SUBARU               181\n",
       "VOLVO 940            178\n",
       "PEUGEOT              173\n",
       "JAGUAR               169\n",
       "HARLEY DAVIDSON      166\n",
       "HYUNDAI              161\n",
       "                    ... \n",
       "LOTUS                  5\n",
       "FIAT                   5\n",
       "APRILIA                5\n",
       "HYS                    4\n",
       "TESLA                  4\n",
       "MOTO GUZZI             4\n",
       "BUICK                  4\n",
       "ASTON                  4\n",
       "SYM                    4\n",
       "BUELL                  3\n",
       "HUSQVARNA              3\n",
       "B Y D                  3\n",
       "PIA                    3\n",
       "PLYTH                  2\n",
       "ISUZU ONE              2\n",
       "SSANGYONG              2\n",
       "POLARIS SINGSHOT       2\n",
       "CAN-AM                 2\n",
       "BENZHOU                2\n",
       "VICTORY                1\n",
       "MV AGUSTA              1\n",
       "CHANGAN                1\n",
       "INFINITY               1\n",
       "BAIC                   1\n",
       "AJS                    1\n",
       "JONW                   1\n",
       "ROVER                  1\n",
       "PANTHER DEVILLE        1\n",
       "LUX                    1\n",
       "CMC                    1\n",
       "Name: MOMA_MOT_MAKE_NM, Length: 112, dtype: int64"
      ]
     },
     "execution_count": 8,
     "metadata": {},
     "output_type": "execute_result"
    }
   ],
   "source": [
    "#Look in to model names to find out patterns of inconsistency\n",
    "\n",
    "make = data.MOMA_MOT_MAKE_NM.valuessort_values(ascending=True)\n",
    "make"
   ]
  },
  {
   "cell_type": "code",
   "execution_count": null,
   "metadata": {},
   "outputs": [],
   "source": []
  },
  {
   "cell_type": "markdown",
   "metadata": {},
   "source": [
    "#### Now we can built an automated algorithmic solution(manual solution is tidy and time consuming) to remove the inconsistency in entry of vehicle make. We will calculate string distance(levenshteinDistance) between two strings and in case of any inconsistent(wrong) entry, from this distence metric algorithm, it will find the nerest correct vehicle make name. For example in case of Toyotal(wrong spelling of Toyota), it will replace as correct name Toyota. I created an addition column 'make_corrected' and added to the dataset. Now it has 100% accurate solution."
   ]
  },
  {
   "cell_type": "code",
   "execution_count": null,
   "metadata": {},
   "outputs": [],
   "source": [
    "#Function to calculater string distance\n",
    "def levenshteinDistance(s1, s2):\n",
    "    if len(s1) > len(s2):\n",
    "        s1, s2 = s2, s1\n",
    "\n",
    "    distances = range(len(s1) + 1)\n",
    "    for i2, c2 in enumerate(s2):\n",
    "        distances_ = [i2+1]\n",
    "        for i1, c1 in enumerate(s1):\n",
    "            if c1 == c2:\n",
    "                distances_.append(distances[i1])\n",
    "            else:\n",
    "                distances_.append(1 + min((distances[i1], distances[i1 + 1], distances_[-1])))\n",
    "        distances = distances_\n",
    "    return distances[-1]\n",
    "\n",
    "#Dictionary of correct makes \n",
    "make = data.MOMA_MOT_MAKE_NM.unique()\n",
    "make=pd.Series(make)\n",
    "make = make.sort_values(ascending = True)\n",
    "legitimate_make = [\"AJS\",\n",
    "\"ALFA ROMEO\",\n",
    "\"APRILIA\",\n",
    "\"ASTON MARTIN\",\n",
    "\"AUDI\",\n",
    "\"B Y D\",\n",
    "\"BAIC\",\n",
    "\"BAJAJ\",\n",
    "\"BENTLEY\",\n",
    "\"BENZHOU\",\n",
    "\"BMW\",\n",
    "\"BUELL\",\n",
    "\"BUICK\",\n",
    "\"CADILLAC\",\n",
    "\"CAN-AM\",\n",
    "\"CHANGAN\",\n",
    "\"CHERY\",\n",
    "\"CHEVROLET\",\n",
    "\"CHRYSLER\",\n",
    "\"CITROEN\",\n",
    "\"CMC\",\n",
    "\"DAEWOO 1.6\",\n",
    "\"DAIHATSU\",\n",
    "\"DATSUN\",\n",
    "\"DODGE\",\n",
    "\"DUCATI\",\n",
    "\"ENFIELD\",\n",
    "\"FERRARI\",\n",
    "\"FIAT\",\n",
    "\"FORD\",\n",
    "\"GEELY\",\n",
    "\"GMC\",\n",
    "\"HARLEY DAVIDSON\",\n",
    "\"HONDA\",\n",
    "\"HUMMER\",\n",
    "\"HUSQVARNA\",\n",
    "\"HYS\",\n",
    "\"HYUNDAI\",\n",
    "\"INDIAN\",\n",
    "\"INFINITI\",\n",
    "\"INFINITY\",\n",
    "\"ISUZU ONE \",\n",
    "\"JAGUAR\",\n",
    "\"JEEP\",\n",
    "\"JONW\",\n",
    "\"KAWASAKI\",\n",
    "\"KIA\",\n",
    "\"KTM\",\n",
    "\"LAMBORGHINI\",\n",
    "\"LAND ROVER\",\n",
    "\"LEXUS\",\n",
    "\"LINCOLN\",\n",
    "\"LOTUS\",\n",
    "\"LUX\",\n",
    "\"MASERATI\",\n",
    "\"MAZDA\",\n",
    "\"MERCEDES\",\n",
    "\"MERCURY\",\n",
    "\"MG\",\n",
    "\"MINI\",\n",
    "\"MITSUBISHI\",\n",
    "\"MOTO GUZZI\",\n",
    "\"MV AGUSTA\",\n",
    "\"NISSAN\",\n",
    "\"OPEL\",\n",
    "\"PANTHER DEVILLE\",\n",
    "\"PEUGEOT\",\n",
    "\"PIA\",\n",
    "\"PLYTH\",\n",
    "\"POLARIS SINGSHOT\",\n",
    "\"PONTIAC\",\n",
    "\"PORSCHE\",\n",
    "\"PROTON\",\n",
    "\"RENAULT\",\n",
    "\"ROLLS ROYCE\",\n",
    "\"ROVER\",\n",
    "\"SAAB\",\n",
    "\"SEAT\",\n",
    "\"SKODA\",\n",
    "\"SMART\",\n",
    "\"SSANGYONG\",\n",
    "\"SUBARU\",\n",
    "\"SUZUKI\",\n",
    "\"SYM\",\n",
    "\"TESLA\",\n",
    "\"TOYOTA\",\n",
    "\"TRIUMPH\",\n",
    "\"TVS\",\n",
    "\"VESPA\",\n",
    "\"VICTORY\",\n",
    "\"VOLKSWAGEN\",\n",
    "\"VOLVO\",\n",
    "\"YAMAHA\"\n",
    "]\n",
    "#Modify makenames with correct make name\n",
    "make_courrected = []\n",
    "for i in tqdm(range(data.shape[0])):\n",
    "    dist=1000\n",
    "    for j in legitimate_make:\n",
    "        #print('comparing with:'+str(j))\n",
    "        lev_dist = levenshteinDistance(data.MOMA_MOT_MAKE_NM[i], j)\n",
    "        if lev_dist < dist:\n",
    "            dist = lev_dist\n",
    "            make = j\n",
    "        if data.MOMA_MOT_MAKE_NM[i] == 'ASTON':\n",
    "            make = 'ASTON MARTIN'   \n",
    "    make_courrected.append(make)        \n",
    "make_courrected = pd.Series(make_courrected)\n",
    "data['make_corrected'] = make_courrected"
   ]
  },
  {
   "cell_type": "markdown",
   "metadata": {},
   "source": [
    "##### We can check the solution. We have wrong entries at 6th(CHEVROLETT),11th(NISSAN  P) and 108th(Toyotal) observations. Let's see the result after correction."
   ]
  },
  {
   "cell_type": "code",
   "execution_count": 605,
   "metadata": {},
   "outputs": [
    {
     "name": "stdout",
     "output_type": "stream",
     "text": [
      "      MOMA_MOT_MAKE_NM make_corrected\n",
      "10688       CHEVROLETT      CHEVROLET\n",
      "24063        NISSAN  P         NISSAN\n",
      "23983          TOYOTAL         TOYOTA\n"
     ]
    }
   ],
   "source": [
    "print(data.iloc[[5,10,107],[14,16]])"
   ]
  },
  {
   "cell_type": "code",
   "execution_count": null,
   "metadata": {},
   "outputs": [],
   "source": []
  },
  {
   "cell_type": "markdown",
   "metadata": {},
   "source": [
    "#### *Work on Vehicle Model*\n",
    "\n",
    "###### We have not found any anomly for name of the vehicle model. Some model names are duplicated because of a few of the vehicle make names were invalid.After correction of vehicle names, now there is one to one mapping for model name vs. make name. For example prior to correction model name C30 and S40 were included both under vehicle make VOLVO and VOLVO940. After correction only make VOLVO is there in the dataset and C30 and S40 models are only under vehicle make VOLVO. Let's check few instances."
   ]
  },
  {
   "cell_type": "code",
   "execution_count": 608,
   "metadata": {},
   "outputs": [
    {
     "name": "stdout",
     "output_type": "stream",
     "text": [
      "      PLC_DTL_VEH_MODEL MOMA_MOT_MAKE_NM make_corrected\n",
      "23146               C30            VOLVO          VOLVO\n",
      "18758               C30       VOLVO 940           VOLVO\n",
      "16407               S40       VOLVO 940           VOLVO\n",
      "7436                S40            VOLVO          VOLVO\n"
     ]
    }
   ],
   "source": [
    "print(data.iloc[[32378,12455,21399,23222],[12,14,16]])"
   ]
  },
  {
   "cell_type": "code",
   "execution_count": null,
   "metadata": {},
   "outputs": [],
   "source": []
  },
  {
   "cell_type": "markdown",
   "metadata": {},
   "source": [
    "## We are done"
   ]
  },
  {
   "cell_type": "markdown",
   "metadata": {},
   "source": [
    "### Q2) We believe that male policy holders drive more expensive cars than females. Can you confirm/refute this with a sound statistical test?"
   ]
  },
  {
   "cell_type": "markdown",
   "metadata": {},
   "source": [
    "## - Solution\n",
    "\n",
    "#### We will see distribution(kernel density plot), mean values of PLC_DTL_VEH_PRICE_AED for male and female groups. It will give us an insight about difference. Then to test our hypothesis with statistical significance, we will conduct a two sample t-test and can make the decision."
   ]
  },
  {
   "cell_type": "code",
   "execution_count": 65,
   "metadata": {},
   "outputs": [
    {
     "data": {
      "text/plain": [
       "<matplotlib.axes._subplots.AxesSubplot at 0x29646e56470>"
      ]
     },
     "execution_count": 65,
     "metadata": {},
     "output_type": "execute_result"
    },
    {
     "data": {
      "image/png": "[encoded data removed]",
      "text/plain": [
       "<Figure size 432x288 with 1 Axes>"
      ]
     },
     "metadata": {},
     "output_type": "display_data"
    },
    {
     "data": {
      "image/png": "[encoded data removed]",
      "text/plain": [
       "<Figure size 432x288 with 1 Axes>"
      ]
     },
     "metadata": {},
     "output_type": "display_data"
    }
   ],
   "source": [
    "# Distribution of vehicle price for male and female\n",
    "import seaborn as sns\n",
    "data['log_PLC_DTL_VEH_PRICE_AED'] = np.log1p(data['PLC_DTL_VEH_PRICE_AED'])\n",
    "gender = ['M', 'F']\n",
    "\n",
    "# Iterate through the five airlines\n",
    "for g in gender:\n",
    "    # Subset to the airline\n",
    "    subset = data[data['GE_GDR_NM'] == g]\n",
    "    \n",
    "    # Draw the density plot\n",
    "    sns.distplot(subset['log_PLC_DTL_VEH_PRICE_AED'], hist = False, kde = True,\n",
    "                 kde_kws = {'linewidth': 2},\n",
    "                 label = g)\n",
    "    \n",
    "# Plot formatting\n",
    "plt.legend(prop={'size': 10}, title = 'Gender-Vehicle Price')\n",
    "plt.title('Density Plot with Gender-price distribution')\n",
    "plt.xlabel('Vehicle Price (AED)')\n",
    "plt.ylabel('Density')\n",
    "data.loc[data['GE_GDR_NM']!='UNK',['log_PLC_DTL_VEH_PRICE_AED', 'GE_GDR_NM']].boxplot(column='log_PLC_DTL_VEH_PRICE_AED', by='GE_GDR_NM')"
   ]
  },
  {
   "cell_type": "code",
   "execution_count": 609,
   "metadata": {},
   "outputs": [
    {
     "data": {
      "text/html": [
       "<div>\n",
       "<style scoped>\n",
       "    .dataframe tbody tr th:only-of-type {\n",
       "        vertical-align: middle;\n",
       "    }\n",
       "\n",
       "    .dataframe tbody tr th {\n",
       "        vertical-align: top;\n",
       "    }\n",
       "\n",
       "    .dataframe thead th {\n",
       "        text-align: right;\n",
       "    }\n",
       "</style>\n",
       "<table border=\"1\" class=\"dataframe\">\n",
       "  <thead>\n",
       "    <tr style=\"text-align: right;\">\n",
       "      <th></th>\n",
       "      <th>PLC_DTL_VEH_PRICE_AED</th>\n",
       "    </tr>\n",
       "    <tr>\n",
       "      <th>GE_GDR_NM</th>\n",
       "      <th></th>\n",
       "    </tr>\n",
       "  </thead>\n",
       "  <tbody>\n",
       "    <tr>\n",
       "      <th>F</th>\n",
       "      <td>562400.140341</td>\n",
       "    </tr>\n",
       "    <tr>\n",
       "      <th>M</th>\n",
       "      <td>483127.661216</td>\n",
       "    </tr>\n",
       "    <tr>\n",
       "      <th>UNK</th>\n",
       "      <td>NaN</td>\n",
       "    </tr>\n",
       "  </tbody>\n",
       "</table>\n",
       "</div>"
      ],
      "text/plain": [
       "           PLC_DTL_VEH_PRICE_AED\n",
       "GE_GDR_NM                       \n",
       "F                  562400.140341\n",
       "M                  483127.661216\n",
       "UNK                          NaN"
      ]
     },
     "execution_count": 609,
     "metadata": {},
     "output_type": "execute_result"
    }
   ],
   "source": [
    "data.loc[data['GE_GDR_NM']!='UNK',['PLC_DTL_VEH_PRICE_AED', 'GE_GDR_NM']].groupby(['GE_GDR_NM']).mean()"
   ]
  },
  {
   "cell_type": "markdown",
   "metadata": {},
   "source": [
    "#### From the distribution and group mean value we can see that rather on an average female customers drive more expensive cars than males. However we need to check whether this difference is statistically significant or not through two sample t-test to reject/accept the null hypotheisis (there is no difference in vehicle price for male policy holders and females policy holders)."
   ]
  },
  {
   "cell_type": "code",
   "execution_count": 26,
   "metadata": {},
   "outputs": [
    {
     "name": "stderr",
     "output_type": "stream",
     "text": [
      "C:\\Users\\Sourish\\Anaconda3\\lib\\site-packages\\plotly\\tools.py:1506: UserWarning:\n",
      "\n",
      "plotly.tools.FigureFactory.create_table is deprecated. Use plotly.figure_factory.create_table\n",
      "\n"
     ]
    },
    {
     "data": {
      "text/plain": [
       "Ttest_indResult(statistic=-1.2457006214703872, pvalue=0.21289176203061838)"
      ]
     },
     "execution_count": 26,
     "metadata": {},
     "output_type": "execute_result"
    }
   ],
   "source": [
    "#statistical test whether male policy holders drive more expensive cars than females\n",
    "\n",
    "male = data.loc[data['GE_GDR_NM'] == 'M',] \n",
    "female = data.loc[data['GE_GDR_NM'] == 'F',]\n",
    "twosample_results = scipy.stats.ttest_ind(male['PLC_DTL_VEH_PRICE_AED'] , female['PLC_DTL_VEH_PRICE_AED'])\n",
    "\n",
    "matrix_twosample = [\n",
    "    ['', 'Test Statistic', 'p-value'],\n",
    "    ['Sample Data', twosample_results[0], twosample_results[1]]\n",
    "]\n",
    "\n",
    "twosample_table = FF.create_table(matrix_twosample, index=True)\n",
    "twosample_results"
   ]
  },
  {
   "cell_type": "markdown",
   "metadata": {},
   "source": [
    "#### As the pvalue(0.21289176203061838) is more than 0.05, we can't reject our null hypotheis. So we can conclude that there is no difference in vehicle price for male policy holders and females policy holders, which is statistically significant. "
   ]
  },
  {
   "cell_type": "code",
   "execution_count": null,
   "metadata": {},
   "outputs": [],
   "source": []
  },
  {
   "cell_type": "markdown",
   "metadata": {},
   "source": [
    "### Q3) 3.\tWe believe that certain nationality types are more prone to buy certain type of cars, can you confirm/refute?"
   ]
  },
  {
   "cell_type": "markdown",
   "metadata": {},
   "source": [
    "- ### Solution\n",
    "\n",
    "#### We can get the vehicle type from PLC_DTL_VEH_VERSION. There are many features we can extract from PLC_DTL_VEH_VERSION. However for sake of time and simplicity we will do feature engineering for engine size(engine_size_cc) and from this we will make a derived proxy variable- Vehicle_size. With these two variables, describing vehile type, we will see descriptive stats(eg cross tabs,group means etc.) and distribution plots to explore whether certain nationality types are more prone to buy certain type of cars. Then we will conduct statistical tests(One way Annova for engine size  and pearson chi square test of independence for Vehicle_size), to have a conclusion. "
   ]
  },
  {
   "cell_type": "code",
   "execution_count": 39,
   "metadata": {},
   "outputs": [
    {
     "data": {
      "text/plain": [
       "0      18392\n",
       "56      4197\n",
       "1       2066\n",
       "68      2035\n",
       "78      1043\n",
       "125     1028\n",
       "36       508\n",
       "87       476\n",
       "5        334\n",
       "45       307\n",
       "50       293\n",
       "88       204\n",
       "105      194\n",
       "30       180\n",
       "117      174\n",
       "133      156\n",
       "92       125\n",
       "73       121\n",
       "41       113\n",
       "15       106\n",
       "32        82\n",
       "57        80\n",
       "64        76\n",
       "3         75\n",
       "123       75\n",
       "135       75\n",
       "54        74\n",
       "53        70\n",
       "70        57\n",
       "109       57\n",
       "       ...  \n",
       "131        2\n",
       "52         2\n",
       "108        2\n",
       "63         2\n",
       "75         2\n",
       "43         2\n",
       "65         1\n",
       "128        1\n",
       "2          1\n",
       "33         1\n",
       "97         1\n",
       "129        1\n",
       "34         1\n",
       "127        1\n",
       "100        1\n",
       "37         1\n",
       "7          1\n",
       "39         1\n",
       "74         1\n",
       "12         1\n",
       "48         1\n",
       "20         1\n",
       "85         1\n",
       "119        1\n",
       "89         1\n",
       "121        1\n",
       "91         1\n",
       "28         1\n",
       "126        1\n",
       "110        1\n",
       "Name: CO_NATLY_CNTY_CODE, Length: 137, dtype: int64"
      ]
     },
     "execution_count": 39,
     "metadata": {},
     "output_type": "execute_result"
    }
   ],
   "source": [
    "data['CO_NATLY_CNTY_CODE'].value_counts()"
   ]
  },
  {
   "cell_type": "code",
   "execution_count": 288,
   "metadata": {},
   "outputs": [
    {
     "name": "stderr",
     "output_type": "stream",
     "text": [
      "100%|███████████████████████████████████████████████████████████████████████████| 33863/33863 [00:44<00:00, 767.93it/s]\n"
     ]
    }
   ],
   "source": [
    "#There are too many nationality code, let's group the nationality codes having frequency less than 100 and make it other(1000)\n",
    "import tqdm\n",
    "from tqdm import tqdm,tqdm_pandas\n",
    "nation = data_original.CO_NATLY_CNTY_CODE.unique()\n",
    "#nation_group = nation[data_original.CO_NATLY_CNTY_CODE.value_counts() < 100]\n",
    "CO_NATLY_CNTY_CODE_grouped = pd.Series([])\n",
    "for i in tqdm(range(data.shape[0])):\n",
    "    if data_original.CO_NATLY_CNTY_CODE[i] in nation_group:\n",
    "        CO_NATLY_CNTY_CODE_grouped[i] = 1000\n",
    "    else:\n",
    "        CO_NATLY_CNTY_CODE_grouped[i] = data_original.CO_NATLY_CNTY_CODE[i]\n",
    "data['CO_NATLY_CNTY_CODE_grouped'] = CO_NATLY_CNTY_CODE_grouped         "
   ]
  },
  {
   "cell_type": "code",
   "execution_count": 610,
   "metadata": {},
   "outputs": [
    {
     "data": {
      "text/plain": [
       "0       18392\n",
       "56       4197\n",
       "1000     2719\n",
       "1        2066\n",
       "68       2035\n",
       "78       1043\n",
       "125      1028\n",
       "36        508\n",
       "87        476\n",
       "5         334\n",
       "45        307\n",
       "105       194\n",
       "117       174\n",
       "133       156\n",
       "73        121\n",
       "41        113\n",
       "Name: CO_NATLY_CNTY_CODE_grouped, dtype: int64"
      ]
     },
     "execution_count": 610,
     "metadata": {},
     "output_type": "execute_result"
    }
   ],
   "source": [
    "#Now we have few classes for nationality\n",
    "\n",
    "data.CO_NATLY_CNTY_CODE_grouped.value_counts()"
   ]
  },
  {
   "cell_type": "code",
   "execution_count": 293,
   "metadata": {},
   "outputs": [],
   "source": [
    "data['CO_NATLY_CNTY_CODE_grouped'].value_counts() \n",
    "data.to_csv('data_make_nationality_corrected_price_nat_gr.csv')"
   ]
  },
  {
   "cell_type": "code",
   "execution_count": 82,
   "metadata": {},
   "outputs": [
    {
     "data": {
      "text/plain": [
       "3.5L                              5274\n",
       "2.0L                              1443\n",
       "1.6L                              1286\n",
       "2.4L                              1270\n",
       "3.0L                              1041\n",
       "1.8L                              1000\n",
       "4.0L                               797\n",
       "2.5L                               670\n",
       "5.7L                               583\n",
       "3.6L                               489\n",
       "SALOON                             452\n",
       "1.5L                               427\n",
       "2.4L SEDAN                         412\n",
       "1.3L SEDAN                         326\n",
       "5.6L                               321\n",
       "4.6L                               317\n",
       "4.0L 8 SEATER                      292\n",
       "4.6L GXR                           290\n",
       "3.5L LWB                           288\n",
       "4.0L 7 SEATER                      280\n",
       "5.0L                               272\n",
       "3.8L LWB                           245\n",
       "3.7L                               224\n",
       "5.3L 5 SEATER                      221\n",
       "2.7L 7 SEATER                      214\n",
       "3.2L                               213\n",
       "2.0L SEDAN                         185\n",
       "4.3L                               171\n",
       "1.4L                               167\n",
       "3.5L LIMITED                       159\n",
       "                                  ... \n",
       "5.6 L SE                             1\n",
       "Z71 5.7L                             1\n",
       "2.0L TS                              1\n",
       "2.5LIT SPORT                         1\n",
       "L-TWIN CYLINDER                      1\n",
       "250 CC                               1\n",
       "8.4L V10                             1\n",
       "5.5L SEDAN                           1\n",
       "350 CC                               1\n",
       "5 SEATER                             1\n",
       "3.2L T6 PREMIUM                      1\n",
       "3.8L TURBO S                         1\n",
       "300 3.0L                             1\n",
       "9S                                   1\n",
       "2.0L SEL                             1\n",
       "2.4L STATION WAGON                   1\n",
       "1200R                                1\n",
       "3.6L TPO                             1\n",
       "3.0L 4DR COMPACT                     1\n",
       "PRESENCE 1.4 L A.G.                  1\n",
       "4.0L CABRIO                          1\n",
       "5.3LTR COUPE (THIRD PARTY ONLY       1\n",
       "900 CC                               1\n",
       "5.0L PORTFOLIO                       1\n",
       "1.6L TRENDY                          1\n",
       "WIDE GLIDE 1690CC                    1\n",
       "ROADSTER                             1\n",
       "C 650 GT                             1\n",
       "3.3L RUF                             1\n",
       "449 CC                               1\n",
       "Name: PLC_DTL_VEH_VERSION, Length: 1176, dtype: int64"
      ]
     },
     "execution_count": 82,
     "metadata": {},
     "output_type": "execute_result"
    }
   ],
   "source": [
    "#Explore the field PLC_DTL_VEH_VERSION  \n",
    "data.PLC_DTL_VEH_VERSION.value_counts()"
   ]
  },
  {
   "cell_type": "code",
   "execution_count": 303,
   "metadata": {},
   "outputs": [
    {
     "name": "stderr",
     "output_type": "stream",
     "text": [
      "100%|█████████████████████████████████████████████████████████████████████████| 33863/33863 [00:01<00:00, 17921.71it/s]\n",
      "100%|████████████████████████████████████████████████████████████████████████| 33863/33863 [00:00<00:00, 592917.95it/s]\n",
      "100%|████████████████████████████████████████████████████████████████████████| 33863/33863 [00:00<00:00, 161664.59it/s]\n"
     ]
    }
   ],
   "source": [
    "#There are too many- We need to group it applying some regex logic to get engine size Vehicle type\n",
    "\n",
    "#To filter out for numerical values(there is slight approximation)\n",
    "import re\n",
    "temp = []\n",
    "for i in tqdm(range(data.shape[0])):\n",
    "    if data.PLC_DTL_VEH_VERSION[i][0].isdigit():\n",
    "        temp.append(data.PLC_DTL_VEH_VERSION[i])\n",
    "    else:\n",
    "        temp.append('not_sure')\n",
    "\n",
    "#to extract size portion from string(approx 98% correct)\n",
    "engine_size = []\n",
    "for i in tqdm(range(len(temp))):\n",
    "    if temp[i] != 'not_sure':\n",
    "        l = len(temp[i])\n",
    "        if l > 3:\n",
    "            size = temp[i][0:4]\n",
    "        else:\n",
    "            size = temp[i]\n",
    "        engine_size.append(size)\n",
    "    else: \n",
    "        engine_size.append('not_sure')\n",
    "\n",
    "#To convert in numeric format(approx 98% correct)        \n",
    "engine_size_cc = []\n",
    "for i in tqdm(range(len(temp))):\n",
    "    if temp[i] != 'not_sure':\n",
    "        if (re.search('L', engine_size[i])!=None): \n",
    "            size = temp[i][0:3]\n",
    "            l = (re.findall('\\d+', size))\n",
    "            l ='.'.join(l)\n",
    "            size = float(l) * 1000\n",
    "        else:\n",
    "            size = engine_size[i]\n",
    "            l = (re.findall('\\d+', engine_size[i]))\n",
    "            l = ''.join(l)\n",
    "            size = float(l)\n",
    "        engine_size_cc.append(size)\n",
    "    else: \n",
    "        engine_size_cc.append('not_sure')  \n",
    "        \n",
    "engine_size_cc = pd.Series(engine_size_cc)\n",
    "data['engine_size_cc'] = engine_size_cc"
   ]
  },
  {
   "cell_type": "markdown",
   "metadata": {},
   "source": [
    "#### We need to do some outlier treatment, as there might be few anomalies, during creation engine_size_cc. From reseach we found out that the Most Powerful Car: Koenigsegg HP: 1341(approx 22500 cc). So we can fix 25000 cc as our upper bound. "
   ]
  },
  {
   "cell_type": "code",
   "execution_count": 323,
   "metadata": {},
   "outputs": [
    {
     "name": "stderr",
     "output_type": "stream",
     "text": [
      "100%|█████████████████████████████████████████████████████████████████████████| 33863/33863 [00:03<00:00, 10039.78it/s]\n"
     ]
    }
   ],
   "source": [
    "#There might be some outlier- so let's cap and floor for outlier(Most Powerful Car: Koenigsegg HP: 1341)\n",
    "for i in tqdm(range(data.shape[0])):\n",
    "    if data['engine_size_cc'][i] != 'not_sure':\n",
    "        if data['engine_size_cc'][i] <100:\n",
    "            data['engine_size_cc'][i] = 100\n",
    "        elif data['engine_size_cc'][i] >= 25000:\n",
    "            data['engine_size_cc'][i] = 25000\n",
    "    else:\n",
    "        data['engine_size_cc'][i] = data['engine_size_cc'][i]         "
   ]
  },
  {
   "cell_type": "code",
   "execution_count": 328,
   "metadata": {},
   "outputs": [
    {
     "data": {
      "text/plain": [
       "<matplotlib.axes._subplots.AxesSubplot at 0x2960b99cb00>"
      ]
     },
     "execution_count": 328,
     "metadata": {},
     "output_type": "execute_result"
    },
    {
     "data": {
      "image/png": "[encoded data removed]",
      "text/plain": [
       "<Figure size 432x288 with 1 Axes>"
      ]
     },
     "metadata": {},
     "output_type": "display_data"
    }
   ],
   "source": [
    "#Let's see the distribution and impute not_sure with sutable value\n",
    "sns.distplot(data['engine_size_cc'][data['engine_size_cc'] != 'not_sure'], hist = False, kde = True,rug=False,\n",
    "                 kde_kws = {'linewidth': 1.5})\n",
    "data['engine_size_cc'][data['engine_size_cc'] == 'not_sure']=data['engine_size_cc'][data['engine_size_cc'] != 'not_sure']\n",
    "data['engine_size_cc'][data['engine_size_cc'] == 'not_sure']=np.mean(data['engine_size_cc'][data['engine_size_cc'] != 'not_sure'])"
   ]
  },
  {
   "cell_type": "code",
   "execution_count": 336,
   "metadata": {},
   "outputs": [
    {
     "data": {
      "text/plain": [
       "<matplotlib.axes._subplots.AxesSubplot at 0x29602afab70>"
      ]
     },
     "execution_count": 336,
     "metadata": {},
     "output_type": "execute_result"
    },
    {
     "data": {
      "image/png": "[encoded data removed]",
      "text/plain": [
       "<Figure size 432x288 with 1 Axes>"
      ]
     },
     "metadata": {},
     "output_type": "display_data"
    },
    {
     "data": {
      "image/png": "[encoded data removed]",
      "text/plain": [
       "<Figure size 432x288 with 1 Axes>"
      ]
     },
     "metadata": {},
     "output_type": "display_data"
    }
   ],
   "source": [
    "#Distribution of vehicle types in terms of engine size for nationality types\n",
    "import seaborn as sns\n",
    "data['engine_size_cc'] = pd.to_numeric(data['engine_size_cc'], errors='coerce')\n",
    "nationality = [0,  56,   1000,   1,   68,    78,   125,   36,   87,\n",
    "         5,45,  105,  117, 133,  41]\n",
    "\n",
    "# Iterate through the five airlines\n",
    "for n in nationality:\n",
    "    # Subset to the airline\n",
    "    subset = data[data['CO_NATLY_CNTY_CODE_grouped'] == n]\n",
    "    \n",
    "    # Draw the density plot\n",
    "    sns.distplot(subset['engine_size_cc'], hist = False, kde = True,\n",
    "                 kde_kws = {'linewidth': 1.5},\n",
    "                 label = n)\n",
    "    \n",
    "# Plot formatting\n",
    "plt.legend(prop={'size': 7}, title = 'nationality-Vehicle Type')\n",
    "plt.title('Density Plot with nationality-Vehicle type(engine) distribution')\n",
    "plt.xlabel('Vehicle Price (AED)')\n",
    "plt.ylabel('Density')\n",
    "data[['engine_size_cc', 'CO_NATLY_CNTY_CODE_grouped']].groupby(['CO_NATLY_CNTY_CODE_grouped']).mean()\n",
    "data.boxplot('engine_size_cc', by = 'CO_NATLY_CNTY_CODE_grouped')"
   ]
  },
  {
   "cell_type": "code",
   "execution_count": 337,
   "metadata": {},
   "outputs": [
    {
     "data": {
      "text/html": [
       "<div>\n",
       "<style scoped>\n",
       "    .dataframe tbody tr th:only-of-type {\n",
       "        vertical-align: middle;\n",
       "    }\n",
       "\n",
       "    .dataframe tbody tr th {\n",
       "        vertical-align: top;\n",
       "    }\n",
       "\n",
       "    .dataframe thead th {\n",
       "        text-align: right;\n",
       "    }\n",
       "</style>\n",
       "<table border=\"1\" class=\"dataframe\">\n",
       "  <thead>\n",
       "    <tr style=\"text-align: right;\">\n",
       "      <th></th>\n",
       "      <th>engine_size_cc</th>\n",
       "    </tr>\n",
       "    <tr>\n",
       "      <th>CO_NATLY_CNTY_CODE_grouped</th>\n",
       "      <th></th>\n",
       "    </tr>\n",
       "  </thead>\n",
       "  <tbody>\n",
       "    <tr>\n",
       "      <th>0</th>\n",
       "      <td>3123.715427</td>\n",
       "    </tr>\n",
       "    <tr>\n",
       "      <th>1</th>\n",
       "      <td>3071.953689</td>\n",
       "    </tr>\n",
       "    <tr>\n",
       "      <th>5</th>\n",
       "      <td>3250.974472</td>\n",
       "    </tr>\n",
       "    <tr>\n",
       "      <th>36</th>\n",
       "      <td>2819.342846</td>\n",
       "    </tr>\n",
       "    <tr>\n",
       "      <th>41</th>\n",
       "      <td>3422.829929</td>\n",
       "    </tr>\n",
       "    <tr>\n",
       "      <th>45</th>\n",
       "      <td>3116.050758</td>\n",
       "    </tr>\n",
       "    <tr>\n",
       "      <th>56</th>\n",
       "      <td>3325.903446</td>\n",
       "    </tr>\n",
       "    <tr>\n",
       "      <th>68</th>\n",
       "      <td>2823.233517</td>\n",
       "    </tr>\n",
       "    <tr>\n",
       "      <th>73</th>\n",
       "      <td>2184.534643</td>\n",
       "    </tr>\n",
       "    <tr>\n",
       "      <th>78</th>\n",
       "      <td>3347.321261</td>\n",
       "    </tr>\n",
       "    <tr>\n",
       "      <th>87</th>\n",
       "      <td>2888.695268</td>\n",
       "    </tr>\n",
       "    <tr>\n",
       "      <th>105</th>\n",
       "      <td>3121.371231</td>\n",
       "    </tr>\n",
       "    <tr>\n",
       "      <th>117</th>\n",
       "      <td>3445.053712</td>\n",
       "    </tr>\n",
       "    <tr>\n",
       "      <th>125</th>\n",
       "      <td>3623.873190</td>\n",
       "    </tr>\n",
       "    <tr>\n",
       "      <th>133</th>\n",
       "      <td>3314.256531</td>\n",
       "    </tr>\n",
       "    <tr>\n",
       "      <th>1000</th>\n",
       "      <td>3083.702568</td>\n",
       "    </tr>\n",
       "  </tbody>\n",
       "</table>\n",
       "</div>"
      ],
      "text/plain": [
       "                            engine_size_cc\n",
       "CO_NATLY_CNTY_CODE_grouped                \n",
       "0                              3123.715427\n",
       "1                              3071.953689\n",
       "5                              3250.974472\n",
       "36                             2819.342846\n",
       "41                             3422.829929\n",
       "45                             3116.050758\n",
       "56                             3325.903446\n",
       "68                             2823.233517\n",
       "73                             2184.534643\n",
       "78                             3347.321261\n",
       "87                             2888.695268\n",
       "105                            3121.371231\n",
       "117                            3445.053712\n",
       "125                            3623.873190\n",
       "133                            3314.256531\n",
       "1000                           3083.702568"
      ]
     },
     "execution_count": 337,
     "metadata": {},
     "output_type": "execute_result"
    }
   ],
   "source": [
    "data[['engine_size_cc', 'CO_NATLY_CNTY_CODE_grouped']].groupby(['CO_NATLY_CNTY_CODE_grouped']).mean()"
   ]
  },
  {
   "cell_type": "markdown",
   "metadata": {},
   "source": [
    "#### From the descriptive stats and distribution plots we can see there are some differences for type of cars(engine size). However to corroborate this we will do one way Annova test and will see the F and p-value."
   ]
  },
  {
   "cell_type": "code",
   "execution_count": 613,
   "metadata": {},
   "outputs": [
    {
     "name": "stdout",
     "output_type": "stream",
     "text": [
      "                                  sum_sq       df         F    PR(>F)\n",
      "CO_NATLY_CNTY_CODE_grouped  1.189547e+07      1.0  6.778744  0.009234\n",
      "Residual                    2.714529e+10  15469.0       NaN       NaN\n",
      "0.00043802281479721276\n"
     ]
    }
   ],
   "source": [
    "#There are some differences in choosing vehicle types in terms of size of engine- Let's see whether this is statistically significant\n",
    "\n",
    "#One way Annova test to test difference in mean values for more than 2 groups\n",
    "import statsmodels.api as sm\n",
    "from statsmodels.formula.api import ols\n",
    "mod = ols('engine_size_cc ~ CO_NATLY_CNTY_CODE_grouped', data.loc[data['CO_NATLY_CNTY_CODE_grouped']!=0,]).fit()\n",
    "aov_tab = sm.stats.anova_lm(mod,typ=2)\n",
    "print(aov_tab)\n",
    "print(aov_tab['sum_sq'][0]/(aov_tab['sum_sq'][0]+aov_tab['sum_sq'][1]))\n"
   ]
  },
  {
   "cell_type": "markdown",
   "metadata": {},
   "source": [
    "#### As p-value(0.009234) is less than critical p-value(0.05) for 95% statistical confidence level and F-statistics is more than critical value for this df(degree of freedom), we can reject our null hypothesis. So we can say that the differences for type of cars(w.r.t. engine cc)across nationalities is statistically significant."
   ]
  },
  {
   "cell_type": "markdown",
   "metadata": {},
   "source": [
    "#### We can extract another feature- size of vehicle, regarding vehicle type and can test"
   ]
  },
  {
   "cell_type": "code",
   "execution_count": 345,
   "metadata": {},
   "outputs": [
    {
     "name": "stderr",
     "output_type": "stream",
     "text": [
      "100%|█████████████████████████████████████████████████████████████████████████| 33863/33863 [00:02<00:00, 14761.95it/s]\n"
     ]
    },
    {
     "name": "stdout",
     "output_type": "stream",
     "text": [
      "medium    11736\n",
      "small     11589\n",
      "large     10538\n",
      "Name: Vehicle_size, dtype: int64\n"
     ]
    },
    {
     "data": {
      "text/html": [
       "<div>\n",
       "<style scoped>\n",
       "    .dataframe tbody tr th:only-of-type {\n",
       "        vertical-align: middle;\n",
       "    }\n",
       "\n",
       "    .dataframe tbody tr th {\n",
       "        vertical-align: top;\n",
       "    }\n",
       "\n",
       "    .dataframe thead th {\n",
       "        text-align: right;\n",
       "    }\n",
       "</style>\n",
       "<table border=\"1\" class=\"dataframe\">\n",
       "  <thead>\n",
       "    <tr style=\"text-align: right;\">\n",
       "      <th></th>\n",
       "      <th>engine_size_cc</th>\n",
       "    </tr>\n",
       "    <tr>\n",
       "      <th>Vehicle_size</th>\n",
       "      <th></th>\n",
       "    </tr>\n",
       "  </thead>\n",
       "  <tbody>\n",
       "    <tr>\n",
       "      <th>large</th>\n",
       "      <td>4602.495730</td>\n",
       "    </tr>\n",
       "    <tr>\n",
       "      <th>medium</th>\n",
       "      <td>3296.942523</td>\n",
       "    </tr>\n",
       "    <tr>\n",
       "      <th>small</th>\n",
       "      <td>1650.885409</td>\n",
       "    </tr>\n",
       "  </tbody>\n",
       "</table>\n",
       "</div>"
      ],
      "text/plain": [
       "              engine_size_cc\n",
       "Vehicle_size                \n",
       "large            4602.495730\n",
       "medium           3296.942523\n",
       "small            1650.885409"
      ]
     },
     "execution_count": 345,
     "metadata": {},
     "output_type": "execute_result"
    }
   ],
   "source": [
    "#Let's see for size of vehicle\n",
    "\n",
    "data['Vehicle_size'] = pd.qcut(data['engine_size_cc'], 3, labels=False)\n",
    "for i in tqdm(range(data.shape[0])):\n",
    "    if data['Vehicle_size'].iloc[i]==0:\n",
    "        group[i]='small'\n",
    "    elif data['Vehicle_size'].iloc[i]==1:\n",
    "        group[i]='medium'\n",
    "    else:\n",
    "        group[i]='large'\n",
    "          \n",
    "data['Vehicle_size'] = group\n",
    "print(data['Vehicle_size'].value_counts())\n",
    "data[['engine_size_cc', 'Vehicle_size']].groupby(['Vehicle_size']).mean()"
   ]
  },
  {
   "cell_type": "code",
   "execution_count": 349,
   "metadata": {},
   "outputs": [
    {
     "name": "stdout",
     "output_type": "stream",
     "text": [
      "Vehicle_size                   large    medium     small\n",
      "CO_NATLY_CNTY_CODE_grouped                              \n",
      "1                           0.041626  0.039623  0.052291\n",
      "5                           0.008015  0.008015  0.005559\n",
      "36                          0.006916  0.012410  0.013509\n",
      "41                          0.002909  0.002909  0.001487\n",
      "45                          0.006528  0.006528  0.006787\n",
      "56                          0.098636  0.092108  0.080538\n",
      "68                          0.022817  0.055588  0.053132\n",
      "73                          0.000582  0.002456  0.004783\n",
      "78                          0.023916  0.027018  0.016482\n",
      "87                          0.005171  0.014608  0.010988\n",
      "105                         0.003103  0.005947  0.003490\n",
      "117                         0.003878  0.005494  0.001874\n",
      "125                         0.028117  0.025726  0.012604\n",
      "133                         0.004137  0.003361  0.002585\n",
      "1000                        0.046280  0.071101  0.058367\n"
     ]
    },
    {
     "data": {
      "image/png": "[encoded data removed]",
      "text/plain": [
       "<Figure size 432x288 with 1 Axes>"
      ]
     },
     "metadata": {},
     "output_type": "display_data"
    }
   ],
   "source": [
    "#Let's see the distribution of vehicle size wrt to different nationality\n",
    "temp = data.loc[data['CO_NATLY_CNTY_CODE_grouped']!=0,]\n",
    "temp3 = pd.crosstab(temp['CO_NATLY_CNTY_CODE_grouped'], data['Vehicle_size'], normalize=True)\n",
    "temp3.plot(kind='bar', stacked=True, color=['red','blue','green'], grid=False)\n",
    "print(temp3)"
   ]
  },
  {
   "cell_type": "code",
   "execution_count": 350,
   "metadata": {},
   "outputs": [
    {
     "data": {
      "text/html": [
       "<div>\n",
       "<style scoped>\n",
       "    .dataframe tbody tr th:only-of-type {\n",
       "        vertical-align: middle;\n",
       "    }\n",
       "\n",
       "    .dataframe tbody tr th {\n",
       "        vertical-align: top;\n",
       "    }\n",
       "\n",
       "    .dataframe thead th {\n",
       "        text-align: right;\n",
       "    }\n",
       "</style>\n",
       "<table border=\"1\" class=\"dataframe\">\n",
       "  <thead>\n",
       "    <tr style=\"text-align: right;\">\n",
       "      <th>Vehicle_size</th>\n",
       "      <th>large</th>\n",
       "      <th>medium</th>\n",
       "      <th>small</th>\n",
       "      <th>All</th>\n",
       "    </tr>\n",
       "    <tr>\n",
       "      <th>CO_NATLY_CNTY_CODE_grouped</th>\n",
       "      <th></th>\n",
       "      <th></th>\n",
       "      <th></th>\n",
       "      <th></th>\n",
       "    </tr>\n",
       "  </thead>\n",
       "  <tbody>\n",
       "    <tr>\n",
       "      <th>1</th>\n",
       "      <td>644</td>\n",
       "      <td>613</td>\n",
       "      <td>809</td>\n",
       "      <td>2066</td>\n",
       "    </tr>\n",
       "    <tr>\n",
       "      <th>5</th>\n",
       "      <td>124</td>\n",
       "      <td>124</td>\n",
       "      <td>86</td>\n",
       "      <td>334</td>\n",
       "    </tr>\n",
       "    <tr>\n",
       "      <th>36</th>\n",
       "      <td>107</td>\n",
       "      <td>192</td>\n",
       "      <td>209</td>\n",
       "      <td>508</td>\n",
       "    </tr>\n",
       "    <tr>\n",
       "      <th>41</th>\n",
       "      <td>45</td>\n",
       "      <td>45</td>\n",
       "      <td>23</td>\n",
       "      <td>113</td>\n",
       "    </tr>\n",
       "    <tr>\n",
       "      <th>45</th>\n",
       "      <td>101</td>\n",
       "      <td>101</td>\n",
       "      <td>105</td>\n",
       "      <td>307</td>\n",
       "    </tr>\n",
       "    <tr>\n",
       "      <th>56</th>\n",
       "      <td>1526</td>\n",
       "      <td>1425</td>\n",
       "      <td>1246</td>\n",
       "      <td>4197</td>\n",
       "    </tr>\n",
       "    <tr>\n",
       "      <th>68</th>\n",
       "      <td>353</td>\n",
       "      <td>860</td>\n",
       "      <td>822</td>\n",
       "      <td>2035</td>\n",
       "    </tr>\n",
       "    <tr>\n",
       "      <th>73</th>\n",
       "      <td>9</td>\n",
       "      <td>38</td>\n",
       "      <td>74</td>\n",
       "      <td>121</td>\n",
       "    </tr>\n",
       "    <tr>\n",
       "      <th>78</th>\n",
       "      <td>370</td>\n",
       "      <td>418</td>\n",
       "      <td>255</td>\n",
       "      <td>1043</td>\n",
       "    </tr>\n",
       "    <tr>\n",
       "      <th>87</th>\n",
       "      <td>80</td>\n",
       "      <td>226</td>\n",
       "      <td>170</td>\n",
       "      <td>476</td>\n",
       "    </tr>\n",
       "    <tr>\n",
       "      <th>105</th>\n",
       "      <td>48</td>\n",
       "      <td>92</td>\n",
       "      <td>54</td>\n",
       "      <td>194</td>\n",
       "    </tr>\n",
       "    <tr>\n",
       "      <th>117</th>\n",
       "      <td>60</td>\n",
       "      <td>85</td>\n",
       "      <td>29</td>\n",
       "      <td>174</td>\n",
       "    </tr>\n",
       "    <tr>\n",
       "      <th>125</th>\n",
       "      <td>435</td>\n",
       "      <td>398</td>\n",
       "      <td>195</td>\n",
       "      <td>1028</td>\n",
       "    </tr>\n",
       "    <tr>\n",
       "      <th>133</th>\n",
       "      <td>64</td>\n",
       "      <td>52</td>\n",
       "      <td>40</td>\n",
       "      <td>156</td>\n",
       "    </tr>\n",
       "    <tr>\n",
       "      <th>1000</th>\n",
       "      <td>716</td>\n",
       "      <td>1100</td>\n",
       "      <td>903</td>\n",
       "      <td>2719</td>\n",
       "    </tr>\n",
       "    <tr>\n",
       "      <th>All</th>\n",
       "      <td>4682</td>\n",
       "      <td>5769</td>\n",
       "      <td>5020</td>\n",
       "      <td>15471</td>\n",
       "    </tr>\n",
       "  </tbody>\n",
       "</table>\n",
       "</div>"
      ],
      "text/plain": [
       "Vehicle_size                large  medium  small    All\n",
       "CO_NATLY_CNTY_CODE_grouped                             \n",
       "1                             644     613    809   2066\n",
       "5                             124     124     86    334\n",
       "36                            107     192    209    508\n",
       "41                             45      45     23    113\n",
       "45                            101     101    105    307\n",
       "56                           1526    1425   1246   4197\n",
       "68                            353     860    822   2035\n",
       "73                              9      38     74    121\n",
       "78                            370     418    255   1043\n",
       "87                             80     226    170    476\n",
       "105                            48      92     54    194\n",
       "117                            60      85     29    174\n",
       "125                           435     398    195   1028\n",
       "133                            64      52     40    156\n",
       "1000                          716    1100    903   2719\n",
       "All                          4682    5769   5020  15471"
      ]
     },
     "execution_count": 350,
     "metadata": {},
     "output_type": "execute_result"
    }
   ],
   "source": [
    "pd.crosstab(temp['CO_NATLY_CNTY_CODE_grouped'], temp['Vehicle_size'], margins=True)"
   ]
  },
  {
   "cell_type": "code",
   "execution_count": 612,
   "metadata": {},
   "outputs": [
    {
     "name": "stderr",
     "output_type": "stream",
     "text": [
      "C:\\Users\\Sourish\\Anaconda3\\lib\\site-packages\\ipykernel_launcher.py:5: DeprecationWarning:\n",
      "\n",
      "\n",
      ".ix is deprecated. Please use\n",
      ".loc for label based indexing or\n",
      ".iloc for positional indexing\n",
      "\n",
      "See the documentation here:\n",
      "http://pandas.pydata.org/pandas-docs/stable/indexing.html#ix-indexer-is-deprecated\n",
      "\n"
     ]
    },
    {
     "name": "stdout",
     "output_type": "stream",
     "text": [
      "Vehicle_size                large  medium  small\n",
      "CO_NATLY_CNTY_CODE_grouped                      \n",
      "1                             644     613    809\n",
      "5                             124     124     86\n",
      "36                            107     192    209\n",
      "41                             45      45     23\n",
      "45                            101     101    105\n",
      "56                           1526    1425   1246\n",
      "68                            353     860    822\n",
      "73                              9      38     74\n",
      "78                            370     418    255\n",
      "87                             80     226    170\n",
      "105                            48      92     54\n",
      "117                            60      85     29\n",
      "125                           435     398    195\n",
      "133                            64      52     40\n",
      "1000                          716    1100    903\n"
     ]
    },
    {
     "name": "stderr",
     "output_type": "stream",
     "text": [
      "C:\\Users\\Sourish\\Anaconda3\\lib\\site-packages\\ipykernel_launcher.py:8: DeprecationWarning:\n",
      "\n",
      "\n",
      ".ix is deprecated. Please use\n",
      ".loc for label based indexing or\n",
      ".iloc for positional indexing\n",
      "\n",
      "See the documentation here:\n",
      "http://pandas.pydata.org/pandas-docs/stable/indexing.html#ix-indexer-is-deprecated\n",
      "\n"
     ]
    },
    {
     "name": "stdout",
     "output_type": "stream",
     "text": [
      "            large       medium        small\n",
      "1      625.235085   770.393252   670.371663\n",
      "5      101.078663   124.545666   108.375671\n",
      "36     153.736410   189.428738   164.834852\n",
      "41      34.197272    42.136707    36.666020\n",
      "45      92.907634   114.477603    99.614763\n",
      "56    1270.141167  1565.024433  1361.834400\n",
      "68     615.853532   758.833624   660.312843\n",
      "73      36.618318    45.119837    39.261845\n",
      "78     315.643850   388.925538   338.430612\n",
      "87     144.052227   177.496219   154.451555\n",
      "105     58.710361    72.340896    62.948743\n",
      "117     52.657747    64.883072    56.459182\n",
      "125    311.104389   383.332170   333.563441\n",
      "133     47.210394    58.171030    50.618577\n",
      "1000   822.852951  1013.891216   882.255833\n",
      "chi_squared_stat\n",
      "643.0220715649066\n",
      "Critical value\n",
      "43.77297182574219\n",
      "P value\n",
      "0.0\n"
     ]
    }
   ],
   "source": [
    "#There is difference in dist.Let's check statistical significance\n",
    "\n",
    "#chi-square test for independence\n",
    "cross_tab = pd.crosstab(temp['CO_NATLY_CNTY_CODE_grouped'], temp['Vehicle_size'], margins=True)\n",
    "observed = cross_tab.ix[0:15,0:3]\n",
    "print(observed)\n",
    "expected =  np.outer(cross_tab[\"All\"][0:15],\n",
    "                     cross_tab.ix[\"All\"][0:3]) / 15471\n",
    "\n",
    "expected = pd.DataFrame(expected)\n",
    "expected.columns = ['large','medium','small']\n",
    "expected.index = [1,5,36,41,45,56,68,73,78,87,105,117,125,133,1000]\n",
    "print(expected)\n",
    "from scipy.stats import chi2\n",
    "chi_squared_stat  = (((observed-expected)**2)/expected).sum().sum()\n",
    "print('chi_squared_stat')\n",
    "print(chi_squared_stat)\n",
    "crit = chi2.ppf(q = 0.95, # Find the critical value for 95% confidence*\n",
    "                      df = 30)   # df = (row-1)*(column-1)\n",
    "print(\"Critical value\")\n",
    "print(crit)\n",
    "\n",
    "p_value = 1 - chi2.cdf(x=chi_squared_stat,  # Find the p-value\n",
    "                             df=30)\n",
    "print(\"P value\")\n",
    "print(p_value)"
   ]
  },
  {
   "cell_type": "markdown",
   "metadata": {},
   "source": [
    "#### As the test chi_squared_stat(643.0220715649066) is more than Critical value(43.77297182574219) and p value is very close to zero (less than 0.05), we can reject our null hypothesis. So from the two statistical tests(One way Anova for engine size and chi_square test for vehicle size) we can conclude that the differences for type of cars(w.r.t. engine cc)across nationalities is statistically significant. This infers that certain nationality types are more prone to buy certain type of cars."
   ]
  },
  {
   "cell_type": "markdown",
   "metadata": {},
   "source": [
    "- #### Other possible Approaches \n",
    "\n",
    "###### Off course there are other features related to vehicles like vehicle model names and Vehicle make name. Also in PLC_DTL_VEH_VERSION string there are other features, like no of seats, vehicle category(sedan, hatchback etc.) can be extracted. For sake of time I left analysis basis these feature. Following are some approaches by which we can get more insights about the relationship between vehicle type and nationality group:\n",
    "\n",
    " A)\tBased original geography of vehicle manufacturer, we can group the vehicle makes(for example Toyota, Nissan, Honda, Suzuki, Mitsubishi etc. as Japanese manufacturers) and so on. With this geography based vehicle make cluster we can explore whether certain nationalities are prone to certain vehicle make clusters.\n",
    "\n",
    "B)\tWe can test whether certain nationalities are prone to certain usage category(3rd party use, vehicle for adventure etc.) of vehicles.\n",
    "\n",
    "C)\tFrom combined group of vehicle makes and model names, we can infer certain nationalities’ choice for category of vehicle(economy, sedan, luxury, sports etc.)\n",
    " "
   ]
  },
  {
   "cell_type": "markdown",
   "metadata": {},
   "source": [
    "### Q4) We believe that certain nationality types are more prone to buy more expensive cars, can you confirm/refute?"
   ]
  },
  {
   "cell_type": "markdown",
   "metadata": {},
   "source": [
    "- ### Solution\n",
    "\n",
    "#### We will see distribution(kernel density plot), mean values of PLC_DTL_VEH_PRICE_AED for different nationality groups. It will give us an insight about differences, if any. Then to test our hypothesis with statistical significance, we will conduct an one way Annova test and can make the decision. Also we will create one categorical feature- vehicle price group(AED_group), to explore strength of association wrt nationality groups with chi_square test of independence."
   ]
  },
  {
   "cell_type": "code",
   "execution_count": 64,
   "metadata": {
    "scrolled": true
   },
   "outputs": [
    {
     "data": {
      "text/plain": [
       "<matplotlib.axes._subplots.AxesSubplot at 0x2964634b2b0>"
      ]
     },
     "execution_count": 64,
     "metadata": {},
     "output_type": "execute_result"
    },
    {
     "data": {
      "image/png": "[encoded data removed]",
      "text/plain": [
       "<Figure size 432x288 with 1 Axes>"
      ]
     },
     "metadata": {},
     "output_type": "display_data"
    },
    {
     "data": {
      "image/png": "[encoded data removed]",
      "text/plain": [
       "<Figure size 432x288 with 1 Axes>"
      ]
     },
     "metadata": {},
     "output_type": "display_data"
    }
   ],
   "source": [
    "# Distribution of vehicle price for nationality types \n",
    "import seaborn as sns\n",
    "data['log_PLC_DTL_VEH_PRICE_AED'] = np.log1p(data['PLC_DTL_VEH_PRICE_AED'])\n",
    "nationality = [0,  125,   54,   36,   68,    5,   56,   78,   70,    3,   73,\n",
    "         87,  105,  117,   41,    1,   64,   45,   71,  133, 1000]\n",
    "\n",
    "# Iterate through the five airlines\n",
    "for n in nationality:\n",
    "    # Subset to the airline\n",
    "    subset = data[data['CO_NATLY_CNTY_CODE'] == n]\n",
    "    \n",
    "    # Draw the density plot\n",
    "    sns.distplot(subset['log_PLC_DTL_VEH_PRICE_AED'], hist = False, kde = True,\n",
    "                 kde_kws = {'linewidth': 1.5},\n",
    "                 label = n)\n",
    "    \n",
    "# Plot formatting\n",
    "plt.legend(prop={'size': 7}, title = 'nationality-Vehicle Price')\n",
    "plt.title('Density Plot with nationality-price distribution')\n",
    "plt.xlabel('Vehicle Price (AED)')\n",
    "plt.ylabel('Density')\n",
    "data[['PLC_DTL_VEH_PRICE_AED', 'CO_NATLY_CNTY_CODE']].groupby(['CO_NATLY_CNTY_CODE']).mean()\n",
    "data.boxplot('log_PLC_DTL_VEH_PRICE_AED', by = 'CO_NATLY_CNTY_CODE')"
   ]
  },
  {
   "cell_type": "markdown",
   "metadata": {},
   "source": [
    "##### From the descriptive stats and distribution plots we can see there are some differences for price cars accross nationalities. However to corroborate this we will do one way Annova test and will see the F and p-value."
   ]
  },
  {
   "cell_type": "code",
   "execution_count": 81,
   "metadata": {},
   "outputs": [
    {
     "name": "stdout",
     "output_type": "stream",
     "text": [
      "                          sum_sq       df        F        PR(>F)\n",
      "CO_NATLY_CNTY_CODE  6.886862e+14      1.0  133.711  7.223066e-31\n",
      "Residual            1.744030e+17  33861.0      NaN           NaN\n",
      "0.003933288326041118\n"
     ]
    }
   ],
   "source": [
    "#Statistical test for to detect whether certain nationality types are more prone to buy more expensive cars- One way Annova\n",
    "import statsmodels.api as sm\n",
    "from statsmodels.formula.api import ols\n",
    "mod = ols('PLC_DTL_VEH_PRICE_AED ~ CO_NATLY_CNTY_CODE', data).fit()\n",
    "aov_tab = sm.stats.anova_lm(mod,typ=2)\n",
    "print(aov_tab)\n",
    "print(aov_tab['sum_sq'][0]/(aov_tab['sum_sq'][0]+aov_tab['sum_sq'][1]))"
   ]
  },
  {
   "cell_type": "markdown",
   "metadata": {},
   "source": [
    "##### As p-value(7.223066e-31) is less than critical p-value(0.05) for 95% statistical confidence level and F-statistics is more than critical value for this df(degree of freedom), we can reject our null hypothesis. So we can say that the differences in price of vehicles(w.r.t. engine cc)across nationalities is statistically significant. It infers that certain nationality types are more prone to buy more expensive cars.\n"
   ]
  },
  {
   "cell_type": "markdown",
   "metadata": {},
   "source": [
    "#### We can also create bands for vehicle price(PLC_DTL_VEH_PRICE_AED) and can test the strength of association with nationality groups."
   ]
  },
  {
   "cell_type": "code",
   "execution_count": 346,
   "metadata": {},
   "outputs": [
    {
     "name": "stderr",
     "output_type": "stream",
     "text": [
      "100%|███████████████████████████████████████████████████████████████████████████| 33863/33863 [01:31<00:00, 372.01it/s]\n"
     ]
    },
    {
     "name": "stdout",
     "output_type": "stream",
     "text": [
      "0    6780\n",
      "4    6773\n",
      "2    6773\n",
      "3    6771\n",
      "1    6766\n",
      "Name: AED_group, dtype: int64\n"
     ]
    },
    {
     "data": {
      "text/html": [
       "<div>\n",
       "<style scoped>\n",
       "    .dataframe tbody tr th:only-of-type {\n",
       "        vertical-align: middle;\n",
       "    }\n",
       "\n",
       "    .dataframe tbody tr th {\n",
       "        vertical-align: top;\n",
       "    }\n",
       "\n",
       "    .dataframe thead th {\n",
       "        text-align: right;\n",
       "    }\n",
       "</style>\n",
       "<table border=\"1\" class=\"dataframe\">\n",
       "  <thead>\n",
       "    <tr style=\"text-align: right;\">\n",
       "      <th></th>\n",
       "      <th>PLC_DTL_VEH_PRICE_AED</th>\n",
       "    </tr>\n",
       "    <tr>\n",
       "      <th>AED_group</th>\n",
       "      <th></th>\n",
       "    </tr>\n",
       "  </thead>\n",
       "  <tbody>\n",
       "    <tr>\n",
       "      <th>0</th>\n",
       "      <td>1.325361e+04</td>\n",
       "    </tr>\n",
       "    <tr>\n",
       "      <th>1</th>\n",
       "      <td>3.546338e+04</td>\n",
       "    </tr>\n",
       "    <tr>\n",
       "      <th>2</th>\n",
       "      <td>5.858742e+04</td>\n",
       "    </tr>\n",
       "    <tr>\n",
       "      <th>3</th>\n",
       "      <td>9.735348e+04</td>\n",
       "    </tr>\n",
       "    <tr>\n",
       "      <th>4</th>\n",
       "      <td>1.220387e+06</td>\n",
       "    </tr>\n",
       "  </tbody>\n",
       "</table>\n",
       "</div>"
      ],
      "text/plain": [
       "           PLC_DTL_VEH_PRICE_AED\n",
       "AED_group                       \n",
       "0                   1.325361e+04\n",
       "1                   3.546338e+04\n",
       "2                   5.858742e+04\n",
       "3                   9.735348e+04\n",
       "4                   1.220387e+06"
      ]
     },
     "execution_count": 346,
     "metadata": {},
     "output_type": "execute_result"
    }
   ],
   "source": [
    "#Some analysis on Vehicle price category and relationship with nationality\n",
    "\n",
    "data['AED_group'] = pd.qcut(data['PLC_DTL_VEH_PRICE_AED'], 5, labels=False)\n",
    "group = pd.Series([])\n",
    "for i in tqdm(range(data.shape[0])):\n",
    "    if data['AED_group'][i]==0:\n",
    "        group[i]='Low'\n",
    "    elif data['AED_group'][i]==1:\n",
    "        group[i]='Med'\n",
    "    elif data['AED_group'][i]==2:\n",
    "        group[i]='High'\n",
    "    elif data['AED_group'][i]==3:\n",
    "        group[i]='VeryHigh' \n",
    "    else:\n",
    "        group[i]='SuperHigh'\n",
    "out_lier_removed_data['AED_group'] = group        \n",
    "print(data['AED_group'].value_counts())\n",
    "data[['PLC_DTL_VEH_PRICE_AED', 'AED_group']].groupby(['AED_group']).mean()"
   ]
  },
  {
   "cell_type": "code",
   "execution_count": 257,
   "metadata": {},
   "outputs": [
    {
     "name": "stdout",
     "output_type": "stream",
     "text": [
      "0.0         0.000000\n",
      "0.1     13717.677594\n",
      "0.2     24069.452400\n",
      "0.3     34938.911460\n",
      "0.4     48998.528100\n",
      "0.5     58603.740000\n",
      "0.6     69044.973010\n",
      "0.7     95513.700000\n",
      "0.8    136722.525440\n",
      "0.9    202966.612500\n",
      "Name: PLC_DTL_VEH_PRICE_AED, dtype: float64\n",
      "0.900000    2.029666e+05\n",
      "0.911111    2.150000e+05\n",
      "0.922222    2.295313e+05\n",
      "0.933333    2.490000e+05\n",
      "0.944444    2.800000e+05\n",
      "0.955556    3.242134e+05\n",
      "0.966667    3.820548e+05\n",
      "0.977778    4.714505e+05\n",
      "0.988889    6.561000e+06\n",
      "1.000000    1.500000e+08\n",
      "Name: PLC_DTL_VEH_PRICE_AED, dtype: float64\n"
     ]
    },
    {
     "data": {
      "image/png": "[encoded data removed]",
      "text/plain": [
       "<Figure size 432x288 with 1 Axes>"
      ]
     },
     "metadata": {},
     "output_type": "display_data"
    }
   ],
   "source": [
    "#Distribution of vehicle price and outlier detection\n",
    "sns.distplot(subset['PLC_DTL_VEH_PRICE_AED'], hist = False, kde = True,rug=True,\n",
    "                 kde_kws = {'linewidth': 1.5})"
   ]
  },
  {
   "cell_type": "code",
   "execution_count": 261,
   "metadata": {},
   "outputs": [
    {
     "name": "stdout",
     "output_type": "stream",
     "text": [
      "0.0         0.000000\n",
      "0.1     13717.677594\n",
      "0.2     24069.452400\n",
      "0.3     34938.911460\n",
      "0.4     48998.528100\n",
      "0.5     58603.740000\n",
      "0.6     69044.973010\n",
      "0.7     95513.700000\n",
      "0.8    136722.525440\n",
      "0.9    202966.612500\n",
      "Name: PLC_DTL_VEH_PRICE_AED, dtype: float64\n",
      "0.900000    2.029666e+05\n",
      "0.911111    2.150000e+05\n",
      "0.922222    2.295313e+05\n",
      "0.933333    2.490000e+05\n",
      "0.944444    2.800000e+05\n",
      "0.955556    3.242134e+05\n",
      "0.966667    3.820548e+05\n",
      "0.977778    4.714505e+05\n",
      "0.988889    6.561000e+06\n",
      "1.000000    1.500000e+08\n",
      "Name: PLC_DTL_VEH_PRICE_AED, dtype: float64\n"
     ]
    },
    {
     "data": {
      "text/plain": [
       "<matplotlib.axes._subplots.AxesSubplot at 0x2967d5d0a58>"
      ]
     },
     "execution_count": 261,
     "metadata": {},
     "output_type": "execute_result"
    },
    {
     "data": {
      "image/png": "[encoded data removed]",
      "text/plain": [
       "<Figure size 432x288 with 1 Axes>"
      ]
     },
     "metadata": {},
     "output_type": "display_data"
    }
   ],
   "source": [
    "#Outlier detection in vehicle price\n",
    "print(data[\"PLC_DTL_VEH_PRICE_AED\"].quantile(np.linspace(0,0.9,10)))\n",
    "print(data[\"PLC_DTL_VEH_PRICE_AED\"].quantile(np.linspace(0.9,1,10)))\n",
    "data['PLC_DTL_VEH_PRICE_AED'].hist(bins=50)"
   ]
  },
  {
   "cell_type": "code",
   "execution_count": 269,
   "metadata": {},
   "outputs": [
    {
     "data": {
      "text/plain": [
       "(33110, 20)"
      ]
     },
     "execution_count": 269,
     "metadata": {},
     "output_type": "execute_result"
    }
   ],
   "source": [
    "#Outlier removal from vehicle price and \n",
    "out_lier_removed_data = data.loc[data['PLC_DTL_VEH_PRICE_AED'] <= 4.714505e+05]\n",
    "out_lier_removed_data.shape"
   ]
  },
  {
   "cell_type": "code",
   "execution_count": 271,
   "metadata": {},
   "outputs": [
    {
     "name": "stderr",
     "output_type": "stream",
     "text": [
      "100%|███████████████████████████████████████████████████████████████████████████| 33110/33110 [00:36<00:00, 898.46it/s]\n"
     ]
    }
   ],
   "source": [
    "#Outlier removal from vehicle price and Vehicle Price grouping- Binning\n",
    "out_lier_removed_data['AED_group'] = pd.qcut(out_lier_removed_data['PLC_DTL_VEH_PRICE_AED'], 5, labels=False)\n",
    "for i in tqdm(range(out_lier_removed_data.shape[0])):\n",
    "    if out_lier_removed_data['AED_group'].iloc[i]==0:\n",
    "        group[i]='Low'\n",
    "    elif out_lier_removed_data['AED_group'].iloc[i]==1:\n",
    "        group[i]='Med'\n",
    "    elif out_lier_removed_data['AED_group'].iloc[i]==2:\n",
    "        group[i]='High'\n",
    "    elif out_lier_removed_data['AED_group'].iloc[i]==3:\n",
    "        group[i]='VeryHigh' \n",
    "    else:\n",
    "        group[i]='SuperHigh'     \n",
    "out_lier_removed_data['AED_group'].value_counts()\n",
    "out_lier_removed_data['AED_group'] = group"
   ]
  },
  {
   "cell_type": "code",
   "execution_count": 278,
   "metadata": {},
   "outputs": [
    {
     "name": "stdout",
     "output_type": "stream",
     "text": [
      "Before outlier treatment\n",
      "           PLC_DTL_VEH_PRICE_AED\n",
      "AED_group                       \n",
      "0                   1.325361e+04\n",
      "1                   3.546338e+04\n",
      "2                   5.858742e+04\n",
      "3                   9.735348e+04\n",
      "4                   1.220387e+06\n",
      "After outlier treatment\n",
      "           PLC_DTL_VEH_PRICE_AED\n",
      "AED_group                       \n",
      "High                58587.422216\n",
      "Low                 13253.614537\n",
      "Med                 35463.382234\n",
      "SuperHigh          218246.849976\n",
      "VeryHigh            97353.483575\n"
     ]
    }
   ],
   "source": [
    "#Distribution of price category Before and after outlier treatment\n",
    "print('Before outlier treatment')\n",
    "print(data[['PLC_DTL_VEH_PRICE_AED', 'AED_group']].groupby(['AED_group']).mean())\n",
    "print('After outlier treatment')\n",
    "print(out_lier_removed_data[['PLC_DTL_VEH_PRICE_AED', 'AED_group']].groupby(['AED_group']).mean())"
   ]
  },
  {
   "cell_type": "markdown",
   "metadata": {},
   "source": [
    "#### Let's visualize the relationship between vehicle price group(AED_group) and nationality group(CO_NATLY_CNTY_CODE_grouped)"
   ]
  },
  {
   "cell_type": "code",
   "execution_count": 285,
   "metadata": {},
   "outputs": [
    {
     "name": "stdout",
     "output_type": "stream",
     "text": [
      "AED_group                       High       Low       Med  SuperHigh  VeryHigh\n",
      "CO_NATLY_CNTY_CODE_grouped                                                   \n",
      "0                           0.100050  0.121371  0.117178   0.094439  0.110091\n",
      "1                           0.009391  0.014765  0.015474   0.011842  0.009538\n",
      "3                           0.000443  0.000325  0.000236   0.001004  0.000207\n",
      "5                           0.002185  0.000561  0.001417   0.003160  0.002540\n",
      "36                          0.003248  0.004252  0.002835   0.002303  0.002362\n",
      "41                          0.000975  0.000148  0.000236   0.001004  0.000975\n",
      "45                          0.001860  0.000856  0.001860   0.002422  0.002067\n",
      "54                          0.000502  0.000354  0.000266   0.000591  0.000472\n",
      "56                          0.024953  0.028438  0.024688   0.024038  0.021823\n",
      "64                          0.000709  0.000295  0.000354   0.000443  0.000443\n",
      "68                          0.014736  0.011133  0.010720   0.010040  0.013466\n",
      "70                          0.000354  0.000177  0.000354   0.000472  0.000325\n",
      "71                          0.000325  0.000059  0.000148   0.000295  0.000354\n",
      "73                          0.000502  0.002038  0.000591   0.000089  0.000354\n",
      "78                          0.006940  0.001742  0.004666   0.008948  0.008505\n",
      "87                          0.004016  0.001742  0.002422   0.002894  0.002983\n",
      "105                         0.001742  0.001004  0.000738   0.001477  0.000768\n",
      "117                         0.001299  0.000118  0.000295   0.002038  0.001388\n",
      "125                         0.006644  0.001979  0.002274   0.015149  0.004311\n",
      "133                         0.000709  0.000236  0.000591   0.001536  0.001536\n",
      "1000                        0.018427  0.008623  0.012462   0.015828  0.015445\n"
     ]
    },
    {
     "data": {
      "image/png": "[encoded data removed]",
      "text/plain": [
       "<Figure size 432x288 with 1 Axes>"
      ]
     },
     "metadata": {},
     "output_type": "display_data"
    }
   ],
   "source": [
    "#Nationality wise distribution for different price category cars excluding countries unknown(UNK)\n",
    "temp3 = pd.crosstab(data['CO_NATLY_CNTY_CODE_grouped'], data['AED_group'], normalize=True)\n",
    "temp3.plot(kind='bar', stacked=True, color=['red','blue','green','yellow','orange'], grid=False)\n",
    "print(temp3)"
   ]
  },
  {
   "cell_type": "code",
   "execution_count": 294,
   "metadata": {},
   "outputs": [
    {
     "name": "stdout",
     "output_type": "stream",
     "text": [
      "AED_group                       High       Low       Med  SuperHigh  VeryHigh\n",
      "CO_NATLY_CNTY_CODE_grouped                                                   \n",
      "1                           0.020555  0.032319  0.033870   0.025919  0.020878\n",
      "5                           0.004783  0.001228  0.003103   0.006916  0.005559\n",
      "36                          0.007110  0.009308  0.006205   0.005042  0.005171\n",
      "41                          0.002133  0.000323  0.000517   0.002198  0.002133\n",
      "45                          0.004072  0.001874  0.004072   0.005300  0.004525\n",
      "56                          0.054618  0.062245  0.054037   0.052615  0.047767\n",
      "68                          0.032254  0.024368  0.023463   0.021977  0.029475\n",
      "73                          0.001099  0.004460  0.001293   0.000194  0.000776\n",
      "78                          0.015190  0.003814  0.010213   0.019585  0.018615\n",
      "87                          0.008791  0.003814  0.005300   0.006334  0.006528\n",
      "105                         0.003814  0.002198  0.001616   0.003232  0.001681\n",
      "117                         0.002844  0.000259  0.000646   0.004460  0.003038\n",
      "125                         0.014543  0.004331  0.004977   0.033159  0.009437\n",
      "133                         0.001551  0.000517  0.001293   0.003361  0.003361\n",
      "1000                        0.045440  0.021524  0.030250   0.040786  0.037748\n"
     ]
    },
    {
     "data": {
      "image/png": "[encoded data removed]",
      "text/plain": [
       "<Figure size 432x288 with 1 Axes>"
      ]
     },
     "metadata": {},
     "output_type": "display_data"
    }
   ],
   "source": [
    "#Nationality wise distribution for different price category cars excluding countries unknown(UNK)\n",
    "temp = data.loc[data['CO_NATLY_CNTY_CODE_grouped']!=0,]\n",
    "temp3 = pd.crosstab(temp['CO_NATLY_CNTY_CODE_grouped'], temp['AED_group'], normalize=True)\n",
    "temp3.plot(kind='bar', stacked=True, color=['red','blue','green','yellow','orange'], grid=False)\n",
    "print(temp3)"
   ]
  },
  {
   "cell_type": "code",
   "execution_count": 296,
   "metadata": {},
   "outputs": [
    {
     "data": {
      "text/html": [
       "<div>\n",
       "<style scoped>\n",
       "    .dataframe tbody tr th:only-of-type {\n",
       "        vertical-align: middle;\n",
       "    }\n",
       "\n",
       "    .dataframe tbody tr th {\n",
       "        vertical-align: top;\n",
       "    }\n",
       "\n",
       "    .dataframe thead th {\n",
       "        text-align: right;\n",
       "    }\n",
       "</style>\n",
       "<table border=\"1\" class=\"dataframe\">\n",
       "  <thead>\n",
       "    <tr style=\"text-align: right;\">\n",
       "      <th>AED_group</th>\n",
       "      <th>High</th>\n",
       "      <th>Low</th>\n",
       "      <th>Med</th>\n",
       "      <th>SuperHigh</th>\n",
       "      <th>VeryHigh</th>\n",
       "      <th>All</th>\n",
       "    </tr>\n",
       "    <tr>\n",
       "      <th>CO_NATLY_CNTY_CODE_grouped</th>\n",
       "      <th></th>\n",
       "      <th></th>\n",
       "      <th></th>\n",
       "      <th></th>\n",
       "      <th></th>\n",
       "      <th></th>\n",
       "    </tr>\n",
       "  </thead>\n",
       "  <tbody>\n",
       "    <tr>\n",
       "      <th>1</th>\n",
       "      <td>318</td>\n",
       "      <td>500</td>\n",
       "      <td>524</td>\n",
       "      <td>401</td>\n",
       "      <td>323</td>\n",
       "      <td>2066</td>\n",
       "    </tr>\n",
       "    <tr>\n",
       "      <th>5</th>\n",
       "      <td>74</td>\n",
       "      <td>19</td>\n",
       "      <td>48</td>\n",
       "      <td>107</td>\n",
       "      <td>86</td>\n",
       "      <td>334</td>\n",
       "    </tr>\n",
       "    <tr>\n",
       "      <th>36</th>\n",
       "      <td>110</td>\n",
       "      <td>144</td>\n",
       "      <td>96</td>\n",
       "      <td>78</td>\n",
       "      <td>80</td>\n",
       "      <td>508</td>\n",
       "    </tr>\n",
       "    <tr>\n",
       "      <th>41</th>\n",
       "      <td>33</td>\n",
       "      <td>5</td>\n",
       "      <td>8</td>\n",
       "      <td>34</td>\n",
       "      <td>33</td>\n",
       "      <td>113</td>\n",
       "    </tr>\n",
       "    <tr>\n",
       "      <th>45</th>\n",
       "      <td>63</td>\n",
       "      <td>29</td>\n",
       "      <td>63</td>\n",
       "      <td>82</td>\n",
       "      <td>70</td>\n",
       "      <td>307</td>\n",
       "    </tr>\n",
       "    <tr>\n",
       "      <th>56</th>\n",
       "      <td>845</td>\n",
       "      <td>963</td>\n",
       "      <td>836</td>\n",
       "      <td>814</td>\n",
       "      <td>739</td>\n",
       "      <td>4197</td>\n",
       "    </tr>\n",
       "    <tr>\n",
       "      <th>68</th>\n",
       "      <td>499</td>\n",
       "      <td>377</td>\n",
       "      <td>363</td>\n",
       "      <td>340</td>\n",
       "      <td>456</td>\n",
       "      <td>2035</td>\n",
       "    </tr>\n",
       "    <tr>\n",
       "      <th>73</th>\n",
       "      <td>17</td>\n",
       "      <td>69</td>\n",
       "      <td>20</td>\n",
       "      <td>3</td>\n",
       "      <td>12</td>\n",
       "      <td>121</td>\n",
       "    </tr>\n",
       "    <tr>\n",
       "      <th>78</th>\n",
       "      <td>235</td>\n",
       "      <td>59</td>\n",
       "      <td>158</td>\n",
       "      <td>303</td>\n",
       "      <td>288</td>\n",
       "      <td>1043</td>\n",
       "    </tr>\n",
       "    <tr>\n",
       "      <th>87</th>\n",
       "      <td>136</td>\n",
       "      <td>59</td>\n",
       "      <td>82</td>\n",
       "      <td>98</td>\n",
       "      <td>101</td>\n",
       "      <td>476</td>\n",
       "    </tr>\n",
       "    <tr>\n",
       "      <th>105</th>\n",
       "      <td>59</td>\n",
       "      <td>34</td>\n",
       "      <td>25</td>\n",
       "      <td>50</td>\n",
       "      <td>26</td>\n",
       "      <td>194</td>\n",
       "    </tr>\n",
       "    <tr>\n",
       "      <th>117</th>\n",
       "      <td>44</td>\n",
       "      <td>4</td>\n",
       "      <td>10</td>\n",
       "      <td>69</td>\n",
       "      <td>47</td>\n",
       "      <td>174</td>\n",
       "    </tr>\n",
       "    <tr>\n",
       "      <th>125</th>\n",
       "      <td>225</td>\n",
       "      <td>67</td>\n",
       "      <td>77</td>\n",
       "      <td>513</td>\n",
       "      <td>146</td>\n",
       "      <td>1028</td>\n",
       "    </tr>\n",
       "    <tr>\n",
       "      <th>133</th>\n",
       "      <td>24</td>\n",
       "      <td>8</td>\n",
       "      <td>20</td>\n",
       "      <td>52</td>\n",
       "      <td>52</td>\n",
       "      <td>156</td>\n",
       "    </tr>\n",
       "    <tr>\n",
       "      <th>1000</th>\n",
       "      <td>703</td>\n",
       "      <td>333</td>\n",
       "      <td>468</td>\n",
       "      <td>631</td>\n",
       "      <td>584</td>\n",
       "      <td>2719</td>\n",
       "    </tr>\n",
       "    <tr>\n",
       "      <th>All</th>\n",
       "      <td>3385</td>\n",
       "      <td>2670</td>\n",
       "      <td>2798</td>\n",
       "      <td>3575</td>\n",
       "      <td>3043</td>\n",
       "      <td>15471</td>\n",
       "    </tr>\n",
       "  </tbody>\n",
       "</table>\n",
       "</div>"
      ],
      "text/plain": [
       "AED_group                   High   Low   Med  SuperHigh  VeryHigh    All\n",
       "CO_NATLY_CNTY_CODE_grouped                                              \n",
       "1                            318   500   524        401       323   2066\n",
       "5                             74    19    48        107        86    334\n",
       "36                           110   144    96         78        80    508\n",
       "41                            33     5     8         34        33    113\n",
       "45                            63    29    63         82        70    307\n",
       "56                           845   963   836        814       739   4197\n",
       "68                           499   377   363        340       456   2035\n",
       "73                            17    69    20          3        12    121\n",
       "78                           235    59   158        303       288   1043\n",
       "87                           136    59    82         98       101    476\n",
       "105                           59    34    25         50        26    194\n",
       "117                           44     4    10         69        47    174\n",
       "125                          225    67    77        513       146   1028\n",
       "133                           24     8    20         52        52    156\n",
       "1000                         703   333   468        631       584   2719\n",
       "All                         3385  2670  2798       3575      3043  15471"
      ]
     },
     "execution_count": 296,
     "metadata": {},
     "output_type": "execute_result"
    }
   ],
   "source": [
    "#Significant difference in distribution, whether statistically significant\n",
    "cross_tab = pd.crosstab(temp['CO_NATLY_CNTY_CODE_grouped'], temp['AED_group'], margins=True)\n",
    "cross_tab "
   ]
  },
  {
   "cell_type": "markdown",
   "metadata": {},
   "source": [
    "#### Significant difference in distribution. However We need to test whether the relationship is statistically significant. We will do a pearson chi-square test for independence for this."
   ]
  },
  {
   "cell_type": "code",
   "execution_count": 371,
   "metadata": {},
   "outputs": [
    {
     "name": "stderr",
     "output_type": "stream",
     "text": [
      "C:\\Users\\Sourish\\Anaconda3\\lib\\site-packages\\ipykernel_launcher.py:3: DeprecationWarning:\n",
      "\n",
      "\n",
      ".ix is deprecated. Please use\n",
      ".loc for label based indexing or\n",
      ".iloc for positional indexing\n",
      "\n",
      "See the documentation here:\n",
      "http://pandas.pydata.org/pandas-docs/stable/indexing.html#ix-indexer-is-deprecated\n",
      "\n"
     ]
    },
    {
     "name": "stdout",
     "output_type": "stream",
     "text": [
      "AED_group                     0    1    2    3    4\n",
      "CO_NATLY_CNTY_CODE_grouped                         \n",
      "1                           500  524  318  323  401\n",
      "5                            19   48   74   86  107\n",
      "36                          144   96  110   80   78\n",
      "41                            5    8   33   33   34\n",
      "45                           29   63   63   70   82\n",
      "56                          963  836  845  739  814\n",
      "68                          377  363  499  456  340\n",
      "73                           69   20   17   12    3\n",
      "78                           59  158  235  288  303\n",
      "87                           59   82  136  101   98\n",
      "105                          34   25   59   26   50\n",
      "117                           4   10   44   47   69\n",
      "125                          67   77  225  146  513\n",
      "133                           8   20   24   52   52\n",
      "1000                        333  468  703  584  631\n",
      "===Chi2 Stat===\n",
      "1457.0983206848875\n",
      "\n",
      "\n",
      "===Degrees of Freedom===\n",
      "56\n",
      "\n",
      "\n",
      "===P-Value===\n",
      "7.259443840486662e-268\n",
      "\n",
      "\n",
      "===Contingency Table===\n",
      "[[356.55225907 373.64540107 452.033482   406.3627432  477.40611467]\n",
      " [ 57.64203995  60.40540366  73.07801693  65.69465451  77.17988495]\n",
      " [ 87.67112662  91.874087   111.14860061  99.91881585 117.38736992]\n",
      " [ 19.50164825  20.43655872  24.72399974  22.22603581  26.11175748]\n",
      " [ 52.98235408  55.52233211  67.17051257  60.38400879  70.94079245]\n",
      " [724.3222804  759.04634477 918.28873376 825.51037425 969.83226682]\n",
      " [351.20224937 368.03891151 445.2507918  400.26533514 470.24271217]\n",
      " [ 20.88229591  21.88339474  26.4743714   23.79956047  27.96037748]\n",
      " [180.00193911 188.63124556 228.20470558 205.14827742 241.01383233]\n",
      " [ 82.14853597  86.08674294 104.14711396  93.62471721 109.99288992]\n",
      " [ 33.48070584  35.08577338  42.44651283  38.15797298  44.82903497]\n",
      " [ 30.02908668  31.46868334  38.07058367  34.22416133  40.20748497]\n",
      " [177.41322474 185.91842803 224.92275871 202.19791869 237.54766983]\n",
      " [ 26.92262944  28.21330231  34.13224743  30.68373085  36.04808997]\n",
      " [469.24762459 491.74339086 594.907569   534.80169349 628.29972206]]\n"
     ]
    }
   ],
   "source": [
    "#chi-square test for independence\n",
    "cross_tab = pd.crosstab(temp['CO_NATLY_CNTY_CODE_grouped'], temp['AED_group'], margins=True)\n",
    "observed = cross_tab.ix[0:15,0:5]\n",
    "print(observed)\n",
    "observed = np.array(observed)\n",
    "chi2_stat, p_val, dof, ex = chi2_contingency(observed)\n",
    "print(\"===Chi2 Stat===\")\n",
    "print(chi2_stat)\n",
    "print(\"\\n\")\n",
    "print(\"===Degrees of Freedom===\")\n",
    "print(dof)\n",
    "print(\"\\n\")\n",
    "print(\"===P-Value===\")\n",
    "print(p_val)\n",
    "print(\"\\n\")\n",
    "print(\"===Contingency Table===\")\n",
    "print(ex)"
   ]
  },
  {
   "cell_type": "markdown",
   "metadata": {},
   "source": [
    "#### As the test chi_squared_stat(1457.0983206848875) is more than Critical value and p value(7.259443840486662e-268) is very close to zero (less than 0.05), we can reject our null hypothesis. So from the two statistical tests(One way Anova for PLC_DTL_VEH_PRICE_AED and chi_square test for price_group(AED_group)), we can conclude that the differences in price of vehicles across nationalities is statistically significant. So we conclude that certain nationality types are more prone to buy more expensive cars."
   ]
  },
  {
   "cell_type": "code",
   "execution_count": null,
   "metadata": {},
   "outputs": [],
   "source": []
  },
  {
   "cell_type": "markdown",
   "metadata": {},
   "source": [
    "### 5) Segmentation of customers and insights on some specific customer segments\n",
    "\n",
    "- ### *Solution*\n",
    "\n",
    "#### Kmeans clustering tecqnique is the most popular unsupervised customer segmentation tecqnique in business and at the last we will provide few illustrative insights on some specific customer segments.  "
   ]
  },
  {
   "cell_type": "code",
   "execution_count": 416,
   "metadata": {},
   "outputs": [
    {
     "data": {
      "text/plain": [
       "Index(['NUM_OF_ADD', 'DR_CUSTOMER_AGE', 'PROPERTY_POLICY_COUNT',\n",
       "       'HEALTH_POLICY_COUNT', 'CASUALTY_POLICY_COUNT',\n",
       "       'TOTAL_MOTOR_POLICY_COUNT', 'PLC_DTL_VEH_PRICE_AED', 'engine_size_cc',\n",
       "       'F', 'M', 'UNK', 'N', 'Y', 'large', 'medium', 'small', 'Bahrain',\n",
       "       'Oman', 'Qatar', 'UNKNOWN', 'UNKOWN', 'United Arab Emirates'],\n",
       "      dtype='object')"
      ]
     },
     "execution_count": 416,
     "metadata": {},
     "output_type": "execute_result"
    }
   ],
   "source": [
    "#Kmeans cluster approach\n",
    "data.columns\n",
    "kmean_data_num = data[['NUM_OF_ADD','DR_CUSTOMER_AGE','PROPERTY_POLICY_COUNT','HEALTH_POLICY_COUNT', 'CASUALTY_POLICY_COUNT','TOTAL_MOTOR_POLICY_COUNT','PLC_DTL_VEH_PRICE_AED','engine_size_cc']]\n",
    "\n",
    "#Handling Categorical Variables\n",
    "data_gender = pd.get_dummies(data['GE_GDR_NM'])\n",
    "data_POL_ACTIVE = pd.get_dummies(data['DR_MOTOR_POL_ACTIVE'])\n",
    "data_Vehicle_size = pd.get_dummies(data['Vehicle_size'])\n",
    "data_contry_issue = pd.get_dummies(data['CO_CNTY_NM'])\n",
    "kmeans_data = pd.concat([kmean_data_num,data_gender,data_POL_ACTIVE,data_Vehicle_size,data_contry_issue], axis=1)\n",
    "kmeans_data.columns"
   ]
  },
  {
   "cell_type": "markdown",
   "metadata": {},
   "source": [
    "#### It is recommended to normalize the data before clustering. We have done MinMax nomalization(linear transformation of x to (x-min)/(max-min))"
   ]
  },
  {
   "cell_type": "code",
   "execution_count": 417,
   "metadata": {},
   "outputs": [
    {
     "data": {
      "text/html": [
       "<div>\n",
       "<style scoped>\n",
       "    .dataframe tbody tr th:only-of-type {\n",
       "        vertical-align: middle;\n",
       "    }\n",
       "\n",
       "    .dataframe tbody tr th {\n",
       "        vertical-align: top;\n",
       "    }\n",
       "\n",
       "    .dataframe thead th {\n",
       "        text-align: right;\n",
       "    }\n",
       "</style>\n",
       "<table border=\"1\" class=\"dataframe\">\n",
       "  <thead>\n",
       "    <tr style=\"text-align: right;\">\n",
       "      <th></th>\n",
       "      <th>NUM_OF_ADD</th>\n",
       "      <th>DR_CUSTOMER_AGE</th>\n",
       "      <th>PROPERTY_POLICY_COUNT</th>\n",
       "      <th>HEALTH_POLICY_COUNT</th>\n",
       "      <th>CASUALTY_POLICY_COUNT</th>\n",
       "      <th>TOTAL_MOTOR_POLICY_COUNT</th>\n",
       "      <th>PLC_DTL_VEH_PRICE_AED</th>\n",
       "      <th>engine_size_cc</th>\n",
       "      <th>F</th>\n",
       "      <th>M</th>\n",
       "      <th>...</th>\n",
       "      <th>Y</th>\n",
       "      <th>large</th>\n",
       "      <th>medium</th>\n",
       "      <th>small</th>\n",
       "      <th>Bahrain</th>\n",
       "      <th>Oman</th>\n",
       "      <th>Qatar</th>\n",
       "      <th>UNKNOWN</th>\n",
       "      <th>UNKOWN</th>\n",
       "      <th>United Arab Emirates</th>\n",
       "    </tr>\n",
       "  </thead>\n",
       "  <tbody>\n",
       "    <tr>\n",
       "      <th>0</th>\n",
       "      <td>0.00</td>\n",
       "      <td>0.452961</td>\n",
       "      <td>0.0</td>\n",
       "      <td>0.0</td>\n",
       "      <td>0.0</td>\n",
       "      <td>0.031250</td>\n",
       "      <td>0.003363</td>\n",
       "      <td>0.590361</td>\n",
       "      <td>0.0</td>\n",
       "      <td>1.0</td>\n",
       "      <td>...</td>\n",
       "      <td>1.0</td>\n",
       "      <td>1.0</td>\n",
       "      <td>0.0</td>\n",
       "      <td>0.0</td>\n",
       "      <td>0.0</td>\n",
       "      <td>0.0</td>\n",
       "      <td>1.0</td>\n",
       "      <td>0.0</td>\n",
       "      <td>0.0</td>\n",
       "      <td>0.0</td>\n",
       "    </tr>\n",
       "    <tr>\n",
       "      <th>1</th>\n",
       "      <td>0.25</td>\n",
       "      <td>0.178165</td>\n",
       "      <td>0.0</td>\n",
       "      <td>0.0</td>\n",
       "      <td>0.0</td>\n",
       "      <td>0.041667</td>\n",
       "      <td>0.001100</td>\n",
       "      <td>0.734940</td>\n",
       "      <td>0.0</td>\n",
       "      <td>1.0</td>\n",
       "      <td>...</td>\n",
       "      <td>1.0</td>\n",
       "      <td>1.0</td>\n",
       "      <td>0.0</td>\n",
       "      <td>0.0</td>\n",
       "      <td>0.0</td>\n",
       "      <td>0.0</td>\n",
       "      <td>0.0</td>\n",
       "      <td>0.0</td>\n",
       "      <td>0.0</td>\n",
       "      <td>1.0</td>\n",
       "    </tr>\n",
       "  </tbody>\n",
       "</table>\n",
       "<p>2 rows × 22 columns</p>\n",
       "</div>"
      ],
      "text/plain": [
       "   NUM_OF_ADD  DR_CUSTOMER_AGE  PROPERTY_POLICY_COUNT  HEALTH_POLICY_COUNT  \\\n",
       "0        0.00         0.452961                    0.0                  0.0   \n",
       "1        0.25         0.178165                    0.0                  0.0   \n",
       "\n",
       "   CASUALTY_POLICY_COUNT  TOTAL_MOTOR_POLICY_COUNT  PLC_DTL_VEH_PRICE_AED  \\\n",
       "0                    0.0                  0.031250               0.003363   \n",
       "1                    0.0                  0.041667               0.001100   \n",
       "\n",
       "   engine_size_cc    F    M          ...             Y  large  medium  small  \\\n",
       "0        0.590361  0.0  1.0          ...           1.0    1.0     0.0    0.0   \n",
       "1        0.734940  0.0  1.0          ...           1.0    1.0     0.0    0.0   \n",
       "\n",
       "   Bahrain  Oman  Qatar  UNKNOWN  UNKOWN  United Arab Emirates  \n",
       "0      0.0   0.0    1.0      0.0     0.0                   0.0  \n",
       "1      0.0   0.0    0.0      0.0     0.0                   1.0  \n",
       "\n",
       "[2 rows x 22 columns]"
      ]
     },
     "execution_count": 417,
     "metadata": {},
     "output_type": "execute_result"
    }
   ],
   "source": [
    "#Data preprocessing before clustering- normalize the data\n",
    "from sklearn import preprocessing\n",
    "\n",
    "x = kmeans_data.values #returns a numpy array\n",
    "min_max_scaler = preprocessing.MinMaxScaler()\n",
    "x = min_max_scaler.fit_transform(x)\n",
    "kmeans_data = pd.DataFrame(x)\n",
    "kmeans_data.columns = ['NUM_OF_ADD', 'DR_CUSTOMER_AGE', 'PROPERTY_POLICY_COUNT',\n",
    "       'HEALTH_POLICY_COUNT', 'CASUALTY_POLICY_COUNT',\n",
    "       'TOTAL_MOTOR_POLICY_COUNT', 'PLC_DTL_VEH_PRICE_AED', 'engine_size_cc',\n",
    "       'F', 'M', 'UNK', 'N', 'Y', 'large', 'medium', 'small', 'Bahrain',\n",
    "       'Oman', 'Qatar', 'UNKNOWN', 'UNKOWN', 'United Arab Emirates']\n",
    "kmeans_data.head(2)"
   ]
  },
  {
   "cell_type": "markdown",
   "metadata": {},
   "source": [
    "#### We will try to find out optimal nos of clusters from a range of options, minimizing cdist(The standardized Euclidean distance between two n-vectors)"
   ]
  },
  {
   "cell_type": "code",
   "execution_count": 389,
   "metadata": {},
   "outputs": [],
   "source": [
    "from scipy.spatial.distance import cdist\n",
    "from sklearn.cluster import KMeans\n",
    "clusters=range(4,10)\n",
    "meandist=[]\n",
    "\n",
    "# loop through each cluster and fit the model to the train set\n",
    "# generate the predicted cluster assingment and append the mean distance my taking the sum divided by the shape\n",
    "for k in clusters:\n",
    "    model=KMeans(n_clusters=k)\n",
    "    model.fit(kmeans_data)\n",
    "    clusassign=model.predict(kmeans_data)\n",
    "    meandist.append(sum(np.min(cdist(kmeans_data, model.cluster_centers_, 'euclidean'), axis=1))\n",
    "    / kmeans_data.shape[0])"
   ]
  },
  {
   "cell_type": "markdown",
   "metadata": {},
   "source": [
    "#### Elbow method is a method to determine the number of clusters"
   ]
  },
  {
   "cell_type": "code",
   "execution_count": 391,
   "metadata": {},
   "outputs": [
    {
     "data": {
      "text/plain": [
       "Text(0.5,1,'Selecting k with the Elbow Method')"
      ]
     },
     "execution_count": 391,
     "metadata": {},
     "output_type": "execute_result"
    },
    {
     "data": {
      "image/png": "[encoded data removed]",
      "text/plain": [
       "<Figure size 432x288 with 1 Axes>"
      ]
     },
     "metadata": {},
     "output_type": "display_data"
    }
   ],
   "source": [
    "#Plot average distance from observations from the cluster centroid\n",
    "#to use the Elbow Method to identify number of clusters to choose\n",
    "\n",
    "plt.plot(clusters, meandist)\n",
    "plt.xlabel('Number of clusters')\n",
    "plt.ylabel('Average distance')\n",
    "plt.title('Selecting k with the Elbow Method') # pick the fewest number of clusters that reduces the average distance"
   ]
  },
  {
   "cell_type": "markdown",
   "metadata": {},
   "source": [
    "#From the elbow plot we choose no of cluster as 7\n",
    "model3=KMeans(n_clusters=7)\n",
    "model3.fit(kmeans_data) # has cluster assingments based on using 3 clusters\n",
    "clusassign=model3.predict(kmeans_data)\n",
    "print(model3.cluster_centers_)"
   ]
  },
  {
   "cell_type": "markdown",
   "metadata": {},
   "source": [
    "#### Now it's time to get some insights about customer segements from cluster analysis result. "
   ]
  },
  {
   "cell_type": "code",
   "execution_count": 418,
   "metadata": {},
   "outputs": [
    {
     "data": {
      "text/html": [
       "<div>\n",
       "<style scoped>\n",
       "    .dataframe tbody tr th:only-of-type {\n",
       "        vertical-align: middle;\n",
       "    }\n",
       "\n",
       "    .dataframe tbody tr th {\n",
       "        vertical-align: top;\n",
       "    }\n",
       "\n",
       "    .dataframe thead th {\n",
       "        text-align: right;\n",
       "    }\n",
       "</style>\n",
       "<table border=\"1\" class=\"dataframe\">\n",
       "  <thead>\n",
       "    <tr style=\"text-align: right;\">\n",
       "      <th></th>\n",
       "      <th>index</th>\n",
       "      <th>NUM_OF_ADD</th>\n",
       "      <th>DR_CUSTOMER_AGE</th>\n",
       "      <th>PROPERTY_POLICY_COUNT</th>\n",
       "      <th>HEALTH_POLICY_COUNT</th>\n",
       "      <th>CASUALTY_POLICY_COUNT</th>\n",
       "      <th>TOTAL_MOTOR_POLICY_COUNT</th>\n",
       "      <th>PLC_DTL_VEH_PRICE_AED</th>\n",
       "      <th>engine_size_cc</th>\n",
       "      <th>F</th>\n",
       "      <th>...</th>\n",
       "      <th>large</th>\n",
       "      <th>medium</th>\n",
       "      <th>small</th>\n",
       "      <th>Bahrain</th>\n",
       "      <th>Oman</th>\n",
       "      <th>Qatar</th>\n",
       "      <th>UNKNOWN</th>\n",
       "      <th>UNKOWN</th>\n",
       "      <th>United Arab Emirates</th>\n",
       "      <th>cluster</th>\n",
       "    </tr>\n",
       "  </thead>\n",
       "  <tbody>\n",
       "    <tr>\n",
       "      <th>0</th>\n",
       "      <td>0</td>\n",
       "      <td>0.00</td>\n",
       "      <td>0.452961</td>\n",
       "      <td>0.0</td>\n",
       "      <td>0.0</td>\n",
       "      <td>0.0</td>\n",
       "      <td>0.031250</td>\n",
       "      <td>0.003363</td>\n",
       "      <td>0.590361</td>\n",
       "      <td>0.0</td>\n",
       "      <td>...</td>\n",
       "      <td>1.0</td>\n",
       "      <td>0.0</td>\n",
       "      <td>0.0</td>\n",
       "      <td>0.0</td>\n",
       "      <td>0.0</td>\n",
       "      <td>1.0</td>\n",
       "      <td>0.0</td>\n",
       "      <td>0.0</td>\n",
       "      <td>0.0</td>\n",
       "      <td>4</td>\n",
       "    </tr>\n",
       "    <tr>\n",
       "      <th>1</th>\n",
       "      <td>1</td>\n",
       "      <td>0.25</td>\n",
       "      <td>0.178165</td>\n",
       "      <td>0.0</td>\n",
       "      <td>0.0</td>\n",
       "      <td>0.0</td>\n",
       "      <td>0.041667</td>\n",
       "      <td>0.001100</td>\n",
       "      <td>0.734940</td>\n",
       "      <td>0.0</td>\n",
       "      <td>...</td>\n",
       "      <td>1.0</td>\n",
       "      <td>0.0</td>\n",
       "      <td>0.0</td>\n",
       "      <td>0.0</td>\n",
       "      <td>0.0</td>\n",
       "      <td>0.0</td>\n",
       "      <td>0.0</td>\n",
       "      <td>0.0</td>\n",
       "      <td>1.0</td>\n",
       "      <td>4</td>\n",
       "    </tr>\n",
       "    <tr>\n",
       "      <th>2</th>\n",
       "      <td>2</td>\n",
       "      <td>0.00</td>\n",
       "      <td>0.440027</td>\n",
       "      <td>0.0</td>\n",
       "      <td>0.0</td>\n",
       "      <td>0.0</td>\n",
       "      <td>0.000000</td>\n",
       "      <td>0.003451</td>\n",
       "      <td>0.590361</td>\n",
       "      <td>0.0</td>\n",
       "      <td>...</td>\n",
       "      <td>1.0</td>\n",
       "      <td>0.0</td>\n",
       "      <td>0.0</td>\n",
       "      <td>1.0</td>\n",
       "      <td>0.0</td>\n",
       "      <td>0.0</td>\n",
       "      <td>0.0</td>\n",
       "      <td>0.0</td>\n",
       "      <td>0.0</td>\n",
       "      <td>0</td>\n",
       "    </tr>\n",
       "    <tr>\n",
       "      <th>3</th>\n",
       "      <td>3</td>\n",
       "      <td>0.00</td>\n",
       "      <td>0.266610</td>\n",
       "      <td>0.0</td>\n",
       "      <td>0.0</td>\n",
       "      <td>0.0</td>\n",
       "      <td>0.000000</td>\n",
       "      <td>0.000968</td>\n",
       "      <td>0.469880</td>\n",
       "      <td>0.0</td>\n",
       "      <td>...</td>\n",
       "      <td>1.0</td>\n",
       "      <td>0.0</td>\n",
       "      <td>0.0</td>\n",
       "      <td>0.0</td>\n",
       "      <td>1.0</td>\n",
       "      <td>0.0</td>\n",
       "      <td>0.0</td>\n",
       "      <td>0.0</td>\n",
       "      <td>0.0</td>\n",
       "      <td>0</td>\n",
       "    </tr>\n",
       "    <tr>\n",
       "      <th>4</th>\n",
       "      <td>4</td>\n",
       "      <td>0.05</td>\n",
       "      <td>0.214060</td>\n",
       "      <td>0.0</td>\n",
       "      <td>0.0</td>\n",
       "      <td>0.0</td>\n",
       "      <td>0.031250</td>\n",
       "      <td>0.045258</td>\n",
       "      <td>0.433735</td>\n",
       "      <td>0.0</td>\n",
       "      <td>...</td>\n",
       "      <td>1.0</td>\n",
       "      <td>0.0</td>\n",
       "      <td>0.0</td>\n",
       "      <td>0.0</td>\n",
       "      <td>0.0</td>\n",
       "      <td>0.0</td>\n",
       "      <td>0.0</td>\n",
       "      <td>0.0</td>\n",
       "      <td>1.0</td>\n",
       "      <td>4</td>\n",
       "    </tr>\n",
       "  </tbody>\n",
       "</table>\n",
       "<p>5 rows × 24 columns</p>\n",
       "</div>"
      ],
      "text/plain": [
       "   index  NUM_OF_ADD  DR_CUSTOMER_AGE  PROPERTY_POLICY_COUNT  \\\n",
       "0      0        0.00         0.452961                    0.0   \n",
       "1      1        0.25         0.178165                    0.0   \n",
       "2      2        0.00         0.440027                    0.0   \n",
       "3      3        0.00         0.266610                    0.0   \n",
       "4      4        0.05         0.214060                    0.0   \n",
       "\n",
       "   HEALTH_POLICY_COUNT  CASUALTY_POLICY_COUNT  TOTAL_MOTOR_POLICY_COUNT  \\\n",
       "0                  0.0                    0.0                  0.031250   \n",
       "1                  0.0                    0.0                  0.041667   \n",
       "2                  0.0                    0.0                  0.000000   \n",
       "3                  0.0                    0.0                  0.000000   \n",
       "4                  0.0                    0.0                  0.031250   \n",
       "\n",
       "   PLC_DTL_VEH_PRICE_AED  engine_size_cc    F   ...     large  medium  small  \\\n",
       "0               0.003363        0.590361  0.0   ...       1.0     0.0    0.0   \n",
       "1               0.001100        0.734940  0.0   ...       1.0     0.0    0.0   \n",
       "2               0.003451        0.590361  0.0   ...       1.0     0.0    0.0   \n",
       "3               0.000968        0.469880  0.0   ...       1.0     0.0    0.0   \n",
       "4               0.045258        0.433735  0.0   ...       1.0     0.0    0.0   \n",
       "\n",
       "   Bahrain  Oman  Qatar  UNKNOWN  UNKOWN  United Arab Emirates  cluster  \n",
       "0      0.0   0.0    1.0      0.0     0.0                   0.0        4  \n",
       "1      0.0   0.0    0.0      0.0     0.0                   1.0        4  \n",
       "2      1.0   0.0    0.0      0.0     0.0                   0.0        0  \n",
       "3      0.0   1.0    0.0      0.0     0.0                   0.0        0  \n",
       "4      0.0   0.0    0.0      0.0     0.0                   1.0        4  \n",
       "\n",
       "[5 rows x 24 columns]"
      ]
     },
     "execution_count": 418,
     "metadata": {},
     "output_type": "execute_result"
    }
   ],
   "source": [
    "#Merging cluster assignment data with cluster variables- cluster variables means by cluster\n",
    "\n",
    "kmeans_data.reset_index(level=0, inplace = True)\n",
    "clustlist = list(kmeans_data['index'])\n",
    "lebels = list(model3.labels_)\n",
    "new_list = dict(zip(clustlist,lebels))\n",
    "new_list = dict(zip(clustlist,lebels))\n",
    "new_clust = pd.DataFrame.from_dict(new_list, orient = 'index')\n",
    "new_clust.columns = ['cluster']\n",
    "new_clust.reset_index(level=0, inplace = True)\n",
    "merged_kmeans = pd.merge(kmeans_data,new_clust,on='index')\n",
    "merged_kmeans.head(5)"
   ]
  },
  {
   "cell_type": "markdown",
   "metadata": {},
   "source": [
    "#### Variable means of respective clusters will provide features of each cluster/customer segment."
   ]
  },
  {
   "cell_type": "code",
   "execution_count": 419,
   "metadata": {},
   "outputs": [
    {
     "name": "stdout",
     "output_type": "stream",
     "text": [
      "clustering variable means by cluster\n",
      "                index  NUM_OF_ADD  DR_CUSTOMER_AGE  PROPERTY_POLICY_COUNT  \\\n",
      "cluster                                                                     \n",
      "0         5308.665073    0.001921         0.318963               0.000334   \n",
      "1        14325.188129    0.020253         0.300450               0.001157   \n",
      "2        28069.428330    0.001115         0.312272               0.000000   \n",
      "3        17721.097702    0.010016         0.323377               0.000915   \n",
      "4         5207.380419    0.044386         0.326392               0.005686   \n",
      "5        28092.746799    0.034645         0.315176               0.003350   \n",
      "6        15508.097821    0.063669         0.301338               0.008876   \n",
      "\n",
      "         HEALTH_POLICY_COUNT  CASUALTY_POLICY_COUNT  TOTAL_MOTOR_POLICY_COUNT  \\\n",
      "cluster                                                                         \n",
      "0                   0.000015               0.000937                  0.000937   \n",
      "1                   0.000434               0.004124                  0.006515   \n",
      "2                   0.000231               0.000362                  0.000673   \n",
      "3                   0.000578               0.001335                  0.003990   \n",
      "4                   0.001974               0.008956                  0.019294   \n",
      "5                   0.001945               0.005467                  0.014132   \n",
      "6                   0.003524               0.011433                  0.019957   \n",
      "\n",
      "         PLC_DTL_VEH_PRICE_AED  engine_size_cc         F  \\\n",
      "cluster                                                    \n",
      "0                     0.000799        0.545221  0.034519   \n",
      "1                     0.000531        0.401128  0.078445   \n",
      "2                     0.000272        0.185440  0.055060   \n",
      "3                     0.001796        0.375185  0.082237   \n",
      "4                     0.005573        0.539967  0.091140   \n",
      "5                     0.002637        0.188247  0.109252   \n",
      "6                     0.002128        0.384513  0.360957   \n",
      "\n",
      "                 ...                  Y     large    medium     small  \\\n",
      "cluster          ...                                                    \n",
      "0                ...           0.037883  1.000000  0.000000  0.000000   \n",
      "1                ...           1.000000  0.000000  1.000000  0.000000   \n",
      "2                ...           0.033067  0.000000  0.000000  1.000000   \n",
      "3                ...           0.000000  0.000000  1.000000  0.000000   \n",
      "4                ...           0.333474  1.000000  0.000000  0.000000   \n",
      "5                ...           0.324453  0.000000  0.000000  1.000000   \n",
      "6                ...           1.000000  0.068347  0.826997  0.104656   \n",
      "\n",
      "          Bahrain      Oman     Qatar   UNKNOWN    UNKOWN  \\\n",
      "cluster                                                     \n",
      "0        0.280581  0.618340  0.044610  0.000000  0.000885   \n",
      "1        0.315168  0.585561  0.052065  0.000000  0.047206   \n",
      "2        0.372808  0.551830  0.025531  0.000000  0.001077   \n",
      "3        0.265645  0.466108  0.027605  0.000000  0.002312   \n",
      "4        0.154578  0.367097  0.024529  0.000000  0.013956   \n",
      "5        0.237712  0.323627  0.020446  0.000207  0.011979   \n",
      "6        0.000000  0.000000  0.000000  0.000000  0.000000   \n",
      "\n",
      "         United Arab Emirates  \n",
      "cluster                        \n",
      "0                    0.055585  \n",
      "1                    0.000000  \n",
      "2                    0.048754  \n",
      "3                    0.238329  \n",
      "4                    0.439839  \n",
      "5                    0.406031  \n",
      "6                    1.000000  \n",
      "\n",
      "[7 rows x 23 columns]\n"
     ]
    }
   ],
   "source": [
    "#Variable Means of respective clusters- These mean values are nomalised between 0 and 1\n",
    "clust_grp = merged_kmeans.groupby('cluster').mean()\n",
    "print('clustering variable means by cluster')\n",
    "print(clust_grp)"
   ]
  },
  {
   "cell_type": "code",
   "execution_count": null,
   "metadata": {},
   "outputs": [],
   "source": []
  },
  {
   "cell_type": "markdown",
   "metadata": {},
   "source": [
    "- ### *Interpretation and customer segmentation:* \n",
    "\n",
    "##### The above cluster variables means by cluster is quite insightful and provides key information in terms of customers' choice of policy(e.g.Number of property policy held last 5 years), vehicle(price and type) and demographic information(e.g.Number of addresses customer held in the last 5 years,) about different customer segments(clusters).Following are a few examples of data driven insights from customer segmentation with k-means clustering, which would help business to make targeting and pricing strategy customized to each segment.\n",
    "\n",
    "a)Customer segment 0 and 4(cluster 0 and 4)choose to drive large car(the mean size of engine corroborates this fact) and for majority of the cases policies are made from Oman and UAE resp.\n",
    "\n",
    "b) Customers in segment 4 and 6 are generally wealthy customers with highest and second highest PLC_DTL_VEH_PRICE_AED score(0.005573 and 0.002128 resp) and highest and second highest Number of addresses score(0.044386 and 0.063669 resp).Business can tweak the premium pricing, as these customers are probably less price sensitive.\n",
    "\n",
    "c) Customer segment 6 have the most valuable customers for the business having highest scores for HEALTH_POLICY_COUNT(0.003524),PROPERTY_POLICY_COUNT( 0.008876) and CASUALTY_POLICY_COUNT(0.011433) and TOTAL_MOTOR_POLICY_COUNT(0.019957). They are relatively younger customers(least score for age) with significant Female population and 100% policies are made from United Arab Emirates.\n",
    "\n",
    "There are many more interesting facts hidden in the above analysis and with thorough study business can decipher many more intriguing patterns amongst these segments."
   ]
  },
  {
   "cell_type": "markdown",
   "metadata": {},
   "source": [
    "### Q7) predicting someone’s nationality using the given attributes(A machine learning based predictive modeling approach)"
   ]
  },
  {
   "cell_type": "markdown",
   "metadata": {},
   "source": [
    "- #### Few assumption,limitations, data selection strategy and evaluation metric before start of predictive modelling\n",
    "\n",
    "a) As the original CO_NATLY_CNTY_CODE has 137 classes, with these limited data(33863 data points),model won't be stable. So We will use 'CO_NATLY_CNTY_CODE_grouped'(grouped all the country code having < 100 frequency and named it as 1000) as our target variable and now have 16 classes.\n",
    "\n",
    "b) We will use 90% data for building model(development and cross-validation) and 10% for validation(evaluation purpose).\n",
    "\n",
    "c) We will use most of the given attributes(except for variables having too many categories). Also we will use the variables we derived from feature engineering(engine_size_cc, Vehicle_size and AED_group).\n",
    "\n",
    "d)With this tiny data for too many classes(16 classes), the model won't be much stable and robust.However we can give it a try."
   ]
  },
  {
   "cell_type": "code",
   "execution_count": 586,
   "metadata": {},
   "outputs": [
    {
     "name": "stdout",
     "output_type": "stream",
     "text": [
      "(33863, 22)\n",
      "0       18392\n",
      "56       4197\n",
      "1000     2719\n",
      "1        2066\n",
      "68       2035\n",
      "78       1043\n",
      "125      1028\n",
      "36        508\n",
      "87        476\n",
      "5         334\n",
      "45        307\n",
      "105       194\n",
      "117       174\n",
      "133       156\n",
      "73        121\n",
      "41        113\n",
      "Name: CO_NATLY_CNTY_CODE_grouped, dtype: int64\n"
     ]
    }
   ],
   "source": [
    "#Data preparation\n",
    "data_model = data\n",
    "cust = data_model[['CU_CU_ID']]\n",
    "print(data_model.shape)\n",
    "print(data_model.CO_NATLY_CNTY_CODE_grouped.value_counts())"
   ]
  },
  {
   "cell_type": "code",
   "execution_count": 587,
   "metadata": {},
   "outputs": [
    {
     "data": {
      "text/html": [
       "<div>\n",
       "<style scoped>\n",
       "    .dataframe tbody tr th:only-of-type {\n",
       "        vertical-align: middle;\n",
       "    }\n",
       "\n",
       "    .dataframe tbody tr th {\n",
       "        vertical-align: top;\n",
       "    }\n",
       "\n",
       "    .dataframe thead th {\n",
       "        text-align: right;\n",
       "    }\n",
       "</style>\n",
       "<table border=\"1\" class=\"dataframe\">\n",
       "  <thead>\n",
       "    <tr style=\"text-align: right;\">\n",
       "      <th></th>\n",
       "      <th>NUM_OF_ADD</th>\n",
       "      <th>DR_CUSTOMER_AGE</th>\n",
       "      <th>PROPERTY_POLICY_COUNT</th>\n",
       "      <th>HEALTH_POLICY_COUNT</th>\n",
       "      <th>CASUALTY_POLICY_COUNT</th>\n",
       "      <th>TOTAL_MOTOR_POLICY_COUNT</th>\n",
       "      <th>PLC_DTL_VEH_PRICE_AED</th>\n",
       "      <th>engine_size_cc</th>\n",
       "      <th>GE_GDR_NM</th>\n",
       "      <th>DR_MOTOR_POL_ACTIVE</th>\n",
       "      <th>Vehicle_size</th>\n",
       "      <th>AED_group</th>\n",
       "      <th>CO_CNTY_NM</th>\n",
       "      <th>CO_NATLY_CNTY_CODE_grouped</th>\n",
       "    </tr>\n",
       "  </thead>\n",
       "  <tbody>\n",
       "    <tr>\n",
       "      <th>26081</th>\n",
       "      <td>1</td>\n",
       "      <td>53.577033</td>\n",
       "      <td>0</td>\n",
       "      <td>0</td>\n",
       "      <td>0</td>\n",
       "      <td>4</td>\n",
       "      <td>504450.0</td>\n",
       "      <td>5000.0</td>\n",
       "      <td>1</td>\n",
       "      <td>1</td>\n",
       "      <td>0</td>\n",
       "      <td>3</td>\n",
       "      <td>2</td>\n",
       "      <td>1000</td>\n",
       "    </tr>\n",
       "    <tr>\n",
       "      <th>24074</th>\n",
       "      <td>6</td>\n",
       "      <td>32.344564</td>\n",
       "      <td>0</td>\n",
       "      <td>0</td>\n",
       "      <td>0</td>\n",
       "      <td>5</td>\n",
       "      <td>165000.0</td>\n",
       "      <td>6200.0</td>\n",
       "      <td>1</td>\n",
       "      <td>1</td>\n",
       "      <td>0</td>\n",
       "      <td>3</td>\n",
       "      <td>4</td>\n",
       "      <td>45</td>\n",
       "    </tr>\n",
       "  </tbody>\n",
       "</table>\n",
       "</div>"
      ],
      "text/plain": [
       "       NUM_OF_ADD  DR_CUSTOMER_AGE  PROPERTY_POLICY_COUNT  \\\n",
       "26081           1        53.577033                      0   \n",
       "24074           6        32.344564                      0   \n",
       "\n",
       "       HEALTH_POLICY_COUNT  CASUALTY_POLICY_COUNT  TOTAL_MOTOR_POLICY_COUNT  \\\n",
       "26081                    0                      0                         4   \n",
       "24074                    0                      0                         5   \n",
       "\n",
       "       PLC_DTL_VEH_PRICE_AED  engine_size_cc  GE_GDR_NM  DR_MOTOR_POL_ACTIVE  \\\n",
       "26081               504450.0          5000.0          1                    1   \n",
       "24074               165000.0          6200.0          1                    1   \n",
       "\n",
       "       Vehicle_size  AED_group  CO_CNTY_NM  CO_NATLY_CNTY_CODE_grouped  \n",
       "26081             0          3           2                        1000  \n",
       "24074             0          3           4                          45  "
      ]
     },
     "execution_count": 587,
     "metadata": {},
     "output_type": "execute_result"
    }
   ],
   "source": [
    "data.columns\n",
    "data_model = data_model[['NUM_OF_ADD','DR_CUSTOMER_AGE','PROPERTY_POLICY_COUNT','HEALTH_POLICY_COUNT', 'CASUALTY_POLICY_COUNT','TOTAL_MOTOR_POLICY_COUNT','PLC_DTL_VEH_PRICE_AED','engine_size_cc',\n",
    "                      'GE_GDR_NM','DR_MOTOR_POL_ACTIVE','Vehicle_size','AED_group','CO_CNTY_NM','CO_NATLY_CNTY_CODE_grouped']]\n",
    "data_model['GE_GDR_NM'] = data_model['GE_GDR_NM'].astype('object')\n",
    "#Handling Categorical Variables-converting to numerical LabelEncoding approach\n",
    "lbl=LabelEncoder()\n",
    "for i in data_model.columns:\n",
    "    if data_model[i].dtypes == 'object':\n",
    "        data_model[i]=lbl.fit_transform(data_model[i])\n",
    "\n",
    "data_model.head(2)"
   ]
  },
  {
   "cell_type": "code",
   "execution_count": 588,
   "metadata": {},
   "outputs": [
    {
     "name": "stdout",
     "output_type": "stream",
     "text": [
      "       NUM_OF_ADD  DR_CUSTOMER_AGE  PROPERTY_POLICY_COUNT  \\\n",
      "9450         0.05         0.249070                    0.0   \n",
      "21566        0.00         0.223982                    0.0   \n",
      "\n",
      "       HEALTH_POLICY_COUNT  CASUALTY_POLICY_COUNT  TOTAL_MOTOR_POLICY_COUNT  \\\n",
      "9450                   0.0               0.058824                  0.020833   \n",
      "21566                  0.0               0.000000                  0.000000   \n",
      "\n",
      "       PLC_DTL_VEH_PRICE_AED  engine_size_cc  GE_GDR_NM  DR_MOTOR_POL_ACTIVE  \\\n",
      "9450                0.002000        0.493976        0.0                  1.0   \n",
      "21566               0.000302        0.349398        1.0                  0.0   \n",
      "\n",
      "       Vehicle_size  AED_group  CO_CNTY_NM  \n",
      "9450            0.0       0.75        1.00  \n",
      "21566           0.5       0.50        0.25  \n",
      "28265    125\n",
      "15665      0\n",
      "Name: CO_NATLY_CNTY_CODE_grouped, dtype: int64\n"
     ]
    }
   ],
   "source": [
    "from sklearn import preprocessing\n",
    "\n",
    "x = data_model.iloc[:,0:13].values #returns a numpy array\n",
    "min_max_scaler = preprocessing.MinMaxScaler()\n",
    "x = min_max_scaler.fit_transform(x)\n",
    "data_model_X = pd.DataFrame(x)\n",
    "data_model_X.columns = ['NUM_OF_ADD','DR_CUSTOMER_AGE','PROPERTY_POLICY_COUNT','HEALTH_POLICY_COUNT', 'CASUALTY_POLICY_COUNT','TOTAL_MOTOR_POLICY_COUNT','PLC_DTL_VEH_PRICE_AED','engine_size_cc',\n",
    "                      'GE_GDR_NM','DR_MOTOR_POL_ACTIVE','Vehicle_size','AED_group','CO_CNTY_NM']\n",
    "\n",
    "#Data seperation for development and validation\n",
    "from sklearn.cross_validation import train_test_split\n",
    "train_X,validation_X,train_Y,validation_Y,train_cust,validation_cust = train_test_split(data_model_X,data_model['CO_NATLY_CNTY_CODE_grouped'],cust, test_size = 0.1, random_state = 20)\n",
    "\n",
    "print(train_X.head(2))\n",
    "print(train_Y.head(2))"
   ]
  },
  {
   "cell_type": "markdown",
   "metadata": {},
   "source": [
    "##### Now the data is scaled between 0 and 1 and model won't be sensitive to magnitude. Now we are ready to build model.This is a multiclassification problem(15 classes).There are many m/c learning techniques- Decision Tree,Random Forest,Boosing techniques(GBM,XGBoost etc.),SVM etc. and the ideal way would be to try each of them and take the best one or stacking(prediction from multiple ). Because of time constaint we will be focussing on XGBoost(extreme gradient boosting), a class of boosting method,as modelling technique.\n",
    "\n",
    "##### XGBoost is also called regularized Gradient Boosting(an ensemble decision tree based algorithm) and in python it comes as an algorithm under sklearn package. XGBoost provides a parallel tree boosting (also known as GBDT, GBM) that solve many data science problems in a fast and accurate way. The same code runs on major distributed environment (Hadoop, SGE, MPI) and can solve problems beyond billions of examples. \n",
    "\n",
    "##### For building this model, as optimization strategy, we try to minimize multi-class log loss(mlogloss) metric."
   ]
  },
  {
   "cell_type": "code",
   "execution_count": 590,
   "metadata": {},
   "outputs": [
    {
     "name": "stdout",
     "output_type": "stream",
     "text": [
      "[11:08:23] Allocated 0MB on [0] GeForce GTX 1060 with Max-Q Design, 5029MB remaining.\n",
      "[11:08:23] Allocated 0MB on [0] GeForce GTX 1060 with Max-Q Design, 5027MB remaining.\n",
      "[11:08:23] Allocated 0MB on [0] GeForce GTX 1060 with Max-Q Design, 5027MB remaining.\n",
      "[11:08:24] Allocated 3MB on [0] GeForce GTX 1060 with Max-Q Design, 5024MB remaining.\n",
      "[11:08:24] Allocated 3MB on [0] GeForce GTX 1060 with Max-Q Design, 5016MB remaining.\n",
      "[11:08:24] Allocated 0MB on [0] GeForce GTX 1060 with Max-Q Design, 5014MB remaining.\n",
      "[0]\tvalidation_0-mlogloss:2.24825\tvalidation_1-mlogloss:2.25083\n",
      "Multiple eval metrics have been passed: 'validation_1-mlogloss' will be used for early stopping.\n",
      "\n",
      "Will train until validation_1-mlogloss hasn't improved in 15 rounds.\n",
      "[10]\tvalidation_0-mlogloss:1.14028\tvalidation_1-mlogloss:1.14892\n",
      "[20]\tvalidation_0-mlogloss:0.86837\tvalidation_1-mlogloss:0.881376\n",
      "[30]\tvalidation_0-mlogloss:0.766935\tvalidation_1-mlogloss:0.784728\n",
      "[40]\tvalidation_0-mlogloss:0.723436\tvalidation_1-mlogloss:0.747054\n",
      "[50]\tvalidation_0-mlogloss:0.701618\tvalidation_1-mlogloss:0.731411\n",
      "[60]\tvalidation_0-mlogloss:0.68829\tvalidation_1-mlogloss:0.724077\n",
      "[70]\tvalidation_0-mlogloss:0.677633\tvalidation_1-mlogloss:0.720446\n",
      "[80]\tvalidation_0-mlogloss:0.668291\tvalidation_1-mlogloss:0.717946\n",
      "[90]\tvalidation_0-mlogloss:0.660522\tvalidation_1-mlogloss:0.716801\n",
      "[100]\tvalidation_0-mlogloss:0.653671\tvalidation_1-mlogloss:0.715528\n",
      "[110]\tvalidation_0-mlogloss:0.647564\tvalidation_1-mlogloss:0.715089\n",
      "[120]\tvalidation_0-mlogloss:0.641184\tvalidation_1-mlogloss:0.714806\n",
      "[130]\tvalidation_0-mlogloss:0.635289\tvalidation_1-mlogloss:0.714534\n",
      "[140]\tvalidation_0-mlogloss:0.629345\tvalidation_1-mlogloss:0.714881\n",
      "Stopping. Best iteration:\n",
      "[130]\tvalidation_0-mlogloss:0.635289\tvalidation_1-mlogloss:0.714534\n",
      "\n"
     ]
    }
   ],
   "source": [
    "#Model Building\n",
    "import lightgbm as lgb\n",
    "import xgboost as xgb\n",
    "from ctypes import *\n",
    "from sklearn import datasets, metrics, model_selection\n",
    "from sklearn.model_selection import cross_val_score, StratifiedKFold\n",
    "from sklearn.grid_search import GridSearchCV,RandomizedSearchCV \n",
    "from xgboost.sklearn import XGBClassifier\n",
    "import pickle\n",
    "\n",
    "xgb_model = XGBClassifier(n_estimators= 500, max_depth = 4, objective= 'multi:softprob',silent = False,tree_method = 'gpu_hist')\n",
    "eval_set  = [(train_X,train_Y), (validation_X,validation_Y)]\n",
    "\n",
    "mod = xgb_model.fit(train_X, train_Y,eval_set=eval_set,early_stopping_rounds=15,verbose = 10,\n",
    "        eval_metric=\"mlogloss\")"
   ]
  },
  {
   "cell_type": "markdown",
   "metadata": {},
   "source": []
  },
  {
   "cell_type": "markdown",
   "metadata": {},
   "source": [
    "###### Now as we built out first cut model, it's time for prediction and measure the accuracy. For this multiclassification problem prediction metric is multiclass accuracy- maximizing accuracy or minimizing misclassification error"
   ]
  },
  {
   "cell_type": "code",
   "execution_count": 591,
   "metadata": {},
   "outputs": [
    {
     "name": "stdout",
     "output_type": "stream",
     "text": [
      "[11:43:56] Allocated 0MB on [0] GeForce GTX 1060 with Max-Q Design, 5038MB remaining.\n"
     ]
    },
    {
     "name": "stderr",
     "output_type": "stream",
     "text": [
      "C:\\Users\\Sourish\\Anaconda3\\lib\\site-packages\\sklearn\\preprocessing\\label.py:151: DeprecationWarning:\n",
      "\n",
      "The truth value of an empty array is ambiguous. Returning False, but in future this will result in an error. Use `array.size > 0` to check that an array is not empty.\n",
      "\n"
     ]
    },
    {
     "name": "stdout",
     "output_type": "stream",
     "text": [
      "Model accuracy is:79.15559492175966%\n",
      "Model error rate is:20.844405078240335%\n"
     ]
    }
   ],
   "source": [
    "pred = mod.predict(validation_X)\n",
    "\n",
    "#To calculate multiclass accuracy and misclassification error\n",
    "print('Model accuracy is:{}%'.format(sum(pred==validation_Y)/validation_Y.shape[0]*100)) \n",
    "print('Model error rate is:{}%'.format((1-sum(pred==validation_Y)/validation_Y.shape[0])*100))"
   ]
  },
  {
   "cell_type": "code",
   "execution_count": null,
   "metadata": {},
   "outputs": [],
   "source": []
  },
  {
   "cell_type": "markdown",
   "metadata": {},
   "source": [
    "###### We got decent accuracy and low error rate. However we can improve the model with hyperparameter tuning from grid serach and will see if we can improve the accuracy. We will try to train the model with varying few key hyperparameters- depth, learning rate,colsample and subsample rate of XGB algorithm and will pick the hyper parameter setting,which will give maximum performance(low neg_log_loss).Offcource there are many more hyperparameters we can play with.  "
   ]
  },
  {
   "cell_type": "code",
   "execution_count": 592,
   "metadata": {},
   "outputs": [
    {
     "name": "stdout",
     "output_type": "stream",
     "text": [
      "Fitting 2 folds for each of 32 candidates, totalling 64 fits\n",
      "[CV] colsample_bytree=0.5, learning_rate=0.02, max_depth=4, subsample=0.7 \n",
      "[CV]  colsample_bytree=0.5, learning_rate=0.02, max_depth=4, subsample=0.7 -  17.0s\n"
     ]
    },
    {
     "name": "stderr",
     "output_type": "stream",
     "text": [
      "[Parallel(n_jobs=1)]: Done   1 out of   1 | elapsed:   17.0s remaining:    0.0s\n"
     ]
    },
    {
     "name": "stdout",
     "output_type": "stream",
     "text": [
      "[CV] colsample_bytree=0.5, learning_rate=0.02, max_depth=4, subsample=0.7 \n",
      "[CV]  colsample_bytree=0.5, learning_rate=0.02, max_depth=4, subsample=0.7 -  17.2s\n",
      "[CV] colsample_bytree=0.5, learning_rate=0.02, max_depth=4, subsample=0.8 \n",
      "[CV]  colsample_bytree=0.5, learning_rate=0.02, max_depth=4, subsample=0.8 -  16.7s\n",
      "[CV] colsample_bytree=0.5, learning_rate=0.02, max_depth=4, subsample=0.8 \n",
      "[CV]  colsample_bytree=0.5, learning_rate=0.02, max_depth=4, subsample=0.8 -  16.4s\n",
      "[CV] colsample_bytree=0.5, learning_rate=0.02, max_depth=5, subsample=0.7 \n",
      "[CV]  colsample_bytree=0.5, learning_rate=0.02, max_depth=5, subsample=0.7 -  20.0s\n",
      "[CV] colsample_bytree=0.5, learning_rate=0.02, max_depth=5, subsample=0.7 \n",
      "[CV]  colsample_bytree=0.5, learning_rate=0.02, max_depth=5, subsample=0.7 -  20.6s\n",
      "[CV] colsample_bytree=0.5, learning_rate=0.02, max_depth=5, subsample=0.8 \n",
      "[CV]  colsample_bytree=0.5, learning_rate=0.02, max_depth=5, subsample=0.8 -  20.0s\n",
      "[CV] colsample_bytree=0.5, learning_rate=0.02, max_depth=5, subsample=0.8 \n",
      "[CV]  colsample_bytree=0.5, learning_rate=0.02, max_depth=5, subsample=0.8 -  21.1s\n",
      "[CV] colsample_bytree=0.5, learning_rate=0.03, max_depth=4, subsample=0.7 \n",
      "[CV]  colsample_bytree=0.5, learning_rate=0.03, max_depth=4, subsample=0.7 -  18.6s\n",
      "[CV] colsample_bytree=0.5, learning_rate=0.03, max_depth=4, subsample=0.7 \n",
      "[CV]  colsample_bytree=0.5, learning_rate=0.03, max_depth=4, subsample=0.7 -  18.4s\n",
      "[CV] colsample_bytree=0.5, learning_rate=0.03, max_depth=4, subsample=0.8 \n",
      "[CV]  colsample_bytree=0.5, learning_rate=0.03, max_depth=4, subsample=0.8 -  17.1s\n",
      "[CV] colsample_bytree=0.5, learning_rate=0.03, max_depth=4, subsample=0.8 \n",
      "[CV]  colsample_bytree=0.5, learning_rate=0.03, max_depth=4, subsample=0.8 -  17.4s\n",
      "[CV] colsample_bytree=0.5, learning_rate=0.03, max_depth=5, subsample=0.7 \n",
      "[CV]  colsample_bytree=0.5, learning_rate=0.03, max_depth=5, subsample=0.7 -  20.6s\n",
      "[CV] colsample_bytree=0.5, learning_rate=0.03, max_depth=5, subsample=0.7 \n",
      "[CV]  colsample_bytree=0.5, learning_rate=0.03, max_depth=5, subsample=0.7 -  21.1s\n",
      "[CV] colsample_bytree=0.5, learning_rate=0.03, max_depth=5, subsample=0.8 \n",
      "[CV]  colsample_bytree=0.5, learning_rate=0.03, max_depth=5, subsample=0.8 -  19.9s\n",
      "[CV] colsample_bytree=0.5, learning_rate=0.03, max_depth=5, subsample=0.8 \n",
      "[CV]  colsample_bytree=0.5, learning_rate=0.03, max_depth=5, subsample=0.8 -  20.7s\n",
      "[CV] colsample_bytree=0.6, learning_rate=0.02, max_depth=4, subsample=0.7 \n",
      "[CV]  colsample_bytree=0.6, learning_rate=0.02, max_depth=4, subsample=0.7 -  17.9s\n",
      "[CV] colsample_bytree=0.6, learning_rate=0.02, max_depth=4, subsample=0.7 \n",
      "[CV]  colsample_bytree=0.6, learning_rate=0.02, max_depth=4, subsample=0.7 -  18.6s\n",
      "[CV] colsample_bytree=0.6, learning_rate=0.02, max_depth=4, subsample=0.8 \n",
      "[CV]  colsample_bytree=0.6, learning_rate=0.02, max_depth=4, subsample=0.8 -  18.2s\n",
      "[CV] colsample_bytree=0.6, learning_rate=0.02, max_depth=4, subsample=0.8 \n",
      "[CV]  colsample_bytree=0.6, learning_rate=0.02, max_depth=4, subsample=0.8 -  18.7s\n",
      "[CV] colsample_bytree=0.6, learning_rate=0.02, max_depth=5, subsample=0.7 \n",
      "[CV]  colsample_bytree=0.6, learning_rate=0.02, max_depth=5, subsample=0.7 -  21.2s\n",
      "[CV] colsample_bytree=0.6, learning_rate=0.02, max_depth=5, subsample=0.7 \n",
      "[CV]  colsample_bytree=0.6, learning_rate=0.02, max_depth=5, subsample=0.7 -  21.2s\n",
      "[CV] colsample_bytree=0.6, learning_rate=0.02, max_depth=5, subsample=0.8 \n",
      "[CV]  colsample_bytree=0.6, learning_rate=0.02, max_depth=5, subsample=0.8 -  21.8s\n",
      "[CV] colsample_bytree=0.6, learning_rate=0.02, max_depth=5, subsample=0.8 \n",
      "[CV]  colsample_bytree=0.6, learning_rate=0.02, max_depth=5, subsample=0.8 -  21.4s\n",
      "[CV] colsample_bytree=0.6, learning_rate=0.03, max_depth=4, subsample=0.7 \n",
      "[CV]  colsample_bytree=0.6, learning_rate=0.03, max_depth=4, subsample=0.7 -  18.6s\n",
      "[CV] colsample_bytree=0.6, learning_rate=0.03, max_depth=4, subsample=0.7 \n",
      "[CV]  colsample_bytree=0.6, learning_rate=0.03, max_depth=4, subsample=0.7 -  18.7s\n",
      "[CV] colsample_bytree=0.6, learning_rate=0.03, max_depth=4, subsample=0.8 \n",
      "[CV]  colsample_bytree=0.6, learning_rate=0.03, max_depth=4, subsample=0.8 -  17.9s\n",
      "[CV] colsample_bytree=0.6, learning_rate=0.03, max_depth=4, subsample=0.8 \n",
      "[CV]  colsample_bytree=0.6, learning_rate=0.03, max_depth=4, subsample=0.8 -  17.6s\n",
      "[CV] colsample_bytree=0.6, learning_rate=0.03, max_depth=5, subsample=0.7 \n",
      "[CV]  colsample_bytree=0.6, learning_rate=0.03, max_depth=5, subsample=0.7 -  21.8s\n",
      "[CV] colsample_bytree=0.6, learning_rate=0.03, max_depth=5, subsample=0.7 \n",
      "[CV]  colsample_bytree=0.6, learning_rate=0.03, max_depth=5, subsample=0.7 -  21.8s\n",
      "[CV] colsample_bytree=0.6, learning_rate=0.03, max_depth=5, subsample=0.8 \n",
      "[CV]  colsample_bytree=0.6, learning_rate=0.03, max_depth=5, subsample=0.8 -  22.6s\n",
      "[CV] colsample_bytree=0.6, learning_rate=0.03, max_depth=5, subsample=0.8 \n",
      "[CV]  colsample_bytree=0.6, learning_rate=0.03, max_depth=5, subsample=0.8 -  21.1s\n",
      "[CV] colsample_bytree=0.7, learning_rate=0.02, max_depth=4, subsample=0.7 \n",
      "[CV]  colsample_bytree=0.7, learning_rate=0.02, max_depth=4, subsample=0.7 -  18.9s\n",
      "[CV] colsample_bytree=0.7, learning_rate=0.02, max_depth=4, subsample=0.7 \n",
      "[CV]  colsample_bytree=0.7, learning_rate=0.02, max_depth=4, subsample=0.7 -  19.4s\n",
      "[CV] colsample_bytree=0.7, learning_rate=0.02, max_depth=4, subsample=0.8 \n",
      "[CV]  colsample_bytree=0.7, learning_rate=0.02, max_depth=4, subsample=0.8 -  20.0s\n",
      "[CV] colsample_bytree=0.7, learning_rate=0.02, max_depth=4, subsample=0.8 \n",
      "[CV]  colsample_bytree=0.7, learning_rate=0.02, max_depth=4, subsample=0.8 -  19.8s\n",
      "[CV] colsample_bytree=0.7, learning_rate=0.02, max_depth=5, subsample=0.7 \n",
      "[CV]  colsample_bytree=0.7, learning_rate=0.02, max_depth=5, subsample=0.7 -  22.9s\n",
      "[CV] colsample_bytree=0.7, learning_rate=0.02, max_depth=5, subsample=0.7 \n",
      "[CV]  colsample_bytree=0.7, learning_rate=0.02, max_depth=5, subsample=0.7 -  23.6s\n",
      "[CV] colsample_bytree=0.7, learning_rate=0.02, max_depth=5, subsample=0.8 \n",
      "[CV]  colsample_bytree=0.7, learning_rate=0.02, max_depth=5, subsample=0.8 -  22.5s\n",
      "[CV] colsample_bytree=0.7, learning_rate=0.02, max_depth=5, subsample=0.8 \n",
      "[CV]  colsample_bytree=0.7, learning_rate=0.02, max_depth=5, subsample=0.8 -  22.8s\n",
      "[CV] colsample_bytree=0.7, learning_rate=0.03, max_depth=4, subsample=0.7 \n",
      "[CV]  colsample_bytree=0.7, learning_rate=0.03, max_depth=4, subsample=0.7 -  20.8s\n",
      "[CV] colsample_bytree=0.7, learning_rate=0.03, max_depth=4, subsample=0.7 \n",
      "[CV]  colsample_bytree=0.7, learning_rate=0.03, max_depth=4, subsample=0.7 -  20.3s\n",
      "[CV] colsample_bytree=0.7, learning_rate=0.03, max_depth=4, subsample=0.8 \n",
      "[CV]  colsample_bytree=0.7, learning_rate=0.03, max_depth=4, subsample=0.8 -  20.3s\n",
      "[CV] colsample_bytree=0.7, learning_rate=0.03, max_depth=4, subsample=0.8 \n",
      "[CV]  colsample_bytree=0.7, learning_rate=0.03, max_depth=4, subsample=0.8 -  20.4s\n",
      "[CV] colsample_bytree=0.7, learning_rate=0.03, max_depth=5, subsample=0.7 \n",
      "[CV]  colsample_bytree=0.7, learning_rate=0.03, max_depth=5, subsample=0.7 -  25.2s\n",
      "[CV] colsample_bytree=0.7, learning_rate=0.03, max_depth=5, subsample=0.7 \n",
      "[CV]  colsample_bytree=0.7, learning_rate=0.03, max_depth=5, subsample=0.7 -  24.7s\n",
      "[CV] colsample_bytree=0.7, learning_rate=0.03, max_depth=5, subsample=0.8 \n",
      "[CV]  colsample_bytree=0.7, learning_rate=0.03, max_depth=5, subsample=0.8 -  23.6s\n",
      "[CV] colsample_bytree=0.7, learning_rate=0.03, max_depth=5, subsample=0.8 \n",
      "[CV]  colsample_bytree=0.7, learning_rate=0.03, max_depth=5, subsample=0.8 -  23.5s\n",
      "[CV] colsample_bytree=0.8, learning_rate=0.02, max_depth=4, subsample=0.7 \n",
      "[CV]  colsample_bytree=0.8, learning_rate=0.02, max_depth=4, subsample=0.7 -  20.3s\n",
      "[CV] colsample_bytree=0.8, learning_rate=0.02, max_depth=4, subsample=0.7 \n",
      "[CV]  colsample_bytree=0.8, learning_rate=0.02, max_depth=4, subsample=0.7 -  20.6s\n",
      "[CV] colsample_bytree=0.8, learning_rate=0.02, max_depth=4, subsample=0.8 \n",
      "[CV]  colsample_bytree=0.8, learning_rate=0.02, max_depth=4, subsample=0.8 -  20.4s\n",
      "[CV] colsample_bytree=0.8, learning_rate=0.02, max_depth=4, subsample=0.8 \n",
      "[CV]  colsample_bytree=0.8, learning_rate=0.02, max_depth=4, subsample=0.8 -  20.3s\n",
      "[CV] colsample_bytree=0.8, learning_rate=0.02, max_depth=5, subsample=0.7 \n",
      "[CV]  colsample_bytree=0.8, learning_rate=0.02, max_depth=5, subsample=0.7 -  26.6s\n",
      "[CV] colsample_bytree=0.8, learning_rate=0.02, max_depth=5, subsample=0.7 \n",
      "[CV]  colsample_bytree=0.8, learning_rate=0.02, max_depth=5, subsample=0.7 -  24.8s\n",
      "[CV] colsample_bytree=0.8, learning_rate=0.02, max_depth=5, subsample=0.8 \n",
      "[CV]  colsample_bytree=0.8, learning_rate=0.02, max_depth=5, subsample=0.8 -  24.2s\n",
      "[CV] colsample_bytree=0.8, learning_rate=0.02, max_depth=5, subsample=0.8 \n",
      "[CV]  colsample_bytree=0.8, learning_rate=0.02, max_depth=5, subsample=0.8 -  25.2s\n",
      "[CV] colsample_bytree=0.8, learning_rate=0.03, max_depth=4, subsample=0.7 \n",
      "[CV]  colsample_bytree=0.8, learning_rate=0.03, max_depth=4, subsample=0.7 -  20.6s\n",
      "[CV] colsample_bytree=0.8, learning_rate=0.03, max_depth=4, subsample=0.7 \n",
      "[CV]  colsample_bytree=0.8, learning_rate=0.03, max_depth=4, subsample=0.7 -  22.4s\n",
      "[CV] colsample_bytree=0.8, learning_rate=0.03, max_depth=4, subsample=0.8 \n",
      "[CV]  colsample_bytree=0.8, learning_rate=0.03, max_depth=4, subsample=0.8 -  20.5s\n",
      "[CV] colsample_bytree=0.8, learning_rate=0.03, max_depth=4, subsample=0.8 \n",
      "[CV]  colsample_bytree=0.8, learning_rate=0.03, max_depth=4, subsample=0.8 -  20.2s\n",
      "[CV] colsample_bytree=0.8, learning_rate=0.03, max_depth=5, subsample=0.7 \n",
      "[CV]  colsample_bytree=0.8, learning_rate=0.03, max_depth=5, subsample=0.7 -  24.4s\n",
      "[CV] colsample_bytree=0.8, learning_rate=0.03, max_depth=5, subsample=0.7 \n",
      "[CV]  colsample_bytree=0.8, learning_rate=0.03, max_depth=5, subsample=0.7 -  25.3s\n",
      "[CV] colsample_bytree=0.8, learning_rate=0.03, max_depth=5, subsample=0.8 \n",
      "[CV]  colsample_bytree=0.8, learning_rate=0.03, max_depth=5, subsample=0.8 -  26.4s\n",
      "[CV] colsample_bytree=0.8, learning_rate=0.03, max_depth=5, subsample=0.8 \n",
      "[CV]  colsample_bytree=0.8, learning_rate=0.03, max_depth=5, subsample=0.8 -  25.1s\n"
     ]
    },
    {
     "name": "stderr",
     "output_type": "stream",
     "text": [
      "[Parallel(n_jobs=1)]: Done  64 out of  64 | elapsed: 22.4min finished\n"
     ]
    },
    {
     "data": {
      "text/plain": [
       "XGBClassifier(base_score=0.5, booster='gbtree', colsample_bylevel=1,\n",
       "       colsample_bytree=0.8, gamma=0, learning_rate=0.03, max_delta_step=0,\n",
       "       max_depth=5, min_child_weight=1, missing=None, n_estimators=100,\n",
       "       n_jobs=1, nthread=None, objective='multi:softprob', random_state=0,\n",
       "       reg_alpha=0, reg_lambda=1, scale_pos_weight=1, seed=None,\n",
       "       silent=True, subsample=0.8)"
      ]
     },
     "execution_count": 592,
     "metadata": {},
     "output_type": "execute_result"
    }
   ],
   "source": [
    "#Best hyper parameter search\n",
    "\n",
    "ind_params = {'learning_rate': 0.03, 'n_estimators': 700, 'seed':100,\n",
    "             'objective': 'multi:softprob'}\n",
    "ind_params['nthread'] = 4\n",
    "ind_params['eval_metric'] = 'mlogloss'\n",
    "xgb_model = xgb.XGBClassifier(ind_params)\n",
    "clf = GridSearchCV(xgb_model,\n",
    "                   {'max_depth': [4,5], 'max_depth': [4,5],'subsample': [0.7,0.8], 'colsample_bytree': [0.5,0.6,0.7,0.8],'learning_rate': [0.02,0.03],\n",
    "                    }, verbose=2,cv=2,scoring='neg_log_loss')\n",
    "clf.fit(train_X, train_Y)\n",
    "clf.best_estimator_"
   ]
  },
  {
   "cell_type": "code",
   "execution_count": null,
   "metadata": {},
   "outputs": [],
   "source": []
  },
  {
   "cell_type": "markdown",
   "metadata": {},
   "source": [
    "###### As we got the the best hyperparameter combination of XGB, we can train the model again with these hyperparameters(max_depth=5,learning_rate=0.03,subsample=0.8 and colsample_bytree=0.8) and can assess the model performance(accuracy). "
   ]
  },
  {
   "cell_type": "code",
   "execution_count": 594,
   "metadata": {},
   "outputs": [
    {
     "name": "stdout",
     "output_type": "stream",
     "text": [
      "[12:28:55] Allocated 0MB on [0] GeForce GTX 1060 with Max-Q Design, 5030MB remaining.\n",
      "[12:28:55] Allocated 0MB on [0] GeForce GTX 1060 with Max-Q Design, 5030MB remaining.\n",
      "[12:28:55] Allocated 0MB on [0] GeForce GTX 1060 with Max-Q Design, 5030MB remaining.\n",
      "[12:28:56] Allocated 3MB on [0] GeForce GTX 1060 with Max-Q Design, 5029MB remaining.\n",
      "[12:28:56] Allocated 3MB on [0] GeForce GTX 1060 with Max-Q Design, 5019MB remaining.\n",
      "[12:28:56] Allocated 0MB on [0] GeForce GTX 1060 with Max-Q Design, 5017MB remaining.\n",
      "[0]\tvalidation_0-mlogloss:2.62517\tvalidation_1-mlogloss:2.62636\n",
      "Multiple eval metrics have been passed: 'validation_1-mlogloss' will be used for early stopping.\n",
      "\n",
      "Will train until validation_1-mlogloss hasn't improved in 15 rounds.\n",
      "[10]\tvalidation_0-mlogloss:1.86406\tvalidation_1-mlogloss:1.8714\n",
      "[20]\tvalidation_0-mlogloss:1.51801\tvalidation_1-mlogloss:1.53092\n",
      "[30]\tvalidation_0-mlogloss:1.29565\tvalidation_1-mlogloss:1.31207\n",
      "[40]\tvalidation_0-mlogloss:1.14474\tvalidation_1-mlogloss:1.16456\n",
      "[50]\tvalidation_0-mlogloss:1.03237\tvalidation_1-mlogloss:1.05531\n",
      "[60]\tvalidation_0-mlogloss:0.948043\tvalidation_1-mlogloss:0.974011\n",
      "[70]\tvalidation_0-mlogloss:0.886015\tvalidation_1-mlogloss:0.914992\n",
      "[80]\tvalidation_0-mlogloss:0.83768\tvalidation_1-mlogloss:0.869442\n",
      "[90]\tvalidation_0-mlogloss:0.799916\tvalidation_1-mlogloss:0.834342\n",
      "[100]\tvalidation_0-mlogloss:0.770516\tvalidation_1-mlogloss:0.807936\n",
      "[110]\tvalidation_0-mlogloss:0.746447\tvalidation_1-mlogloss:0.787043\n",
      "[120]\tvalidation_0-mlogloss:0.727601\tvalidation_1-mlogloss:0.770942\n",
      "[130]\tvalidation_0-mlogloss:0.712349\tvalidation_1-mlogloss:0.758895\n",
      "[140]\tvalidation_0-mlogloss:0.69936\tvalidation_1-mlogloss:0.749172\n",
      "[150]\tvalidation_0-mlogloss:0.688794\tvalidation_1-mlogloss:0.741616\n",
      "[160]\tvalidation_0-mlogloss:0.679749\tvalidation_1-mlogloss:0.736081\n",
      "[170]\tvalidation_0-mlogloss:0.671894\tvalidation_1-mlogloss:0.731191\n",
      "[180]\tvalidation_0-mlogloss:0.664912\tvalidation_1-mlogloss:0.727372\n",
      "[190]\tvalidation_0-mlogloss:0.658219\tvalidation_1-mlogloss:0.723931\n",
      "[200]\tvalidation_0-mlogloss:0.652499\tvalidation_1-mlogloss:0.72121\n",
      "[210]\tvalidation_0-mlogloss:0.647082\tvalidation_1-mlogloss:0.7189\n",
      "[220]\tvalidation_0-mlogloss:0.642009\tvalidation_1-mlogloss:0.717278\n",
      "[230]\tvalidation_0-mlogloss:0.637296\tvalidation_1-mlogloss:0.7159\n",
      "[240]\tvalidation_0-mlogloss:0.632783\tvalidation_1-mlogloss:0.714681\n",
      "[250]\tvalidation_0-mlogloss:0.628412\tvalidation_1-mlogloss:0.713669\n",
      "[260]\tvalidation_0-mlogloss:0.624224\tvalidation_1-mlogloss:0.712846\n",
      "[270]\tvalidation_0-mlogloss:0.619856\tvalidation_1-mlogloss:0.712072\n",
      "[280]\tvalidation_0-mlogloss:0.615952\tvalidation_1-mlogloss:0.711779\n",
      "[290]\tvalidation_0-mlogloss:0.612021\tvalidation_1-mlogloss:0.711233\n",
      "[300]\tvalidation_0-mlogloss:0.608161\tvalidation_1-mlogloss:0.710861\n",
      "[310]\tvalidation_0-mlogloss:0.604294\tvalidation_1-mlogloss:0.710419\n",
      "[320]\tvalidation_0-mlogloss:0.600562\tvalidation_1-mlogloss:0.710159\n",
      "[330]\tvalidation_0-mlogloss:0.596819\tvalidation_1-mlogloss:0.709892\n",
      "[340]\tvalidation_0-mlogloss:0.593074\tvalidation_1-mlogloss:0.709749\n",
      "[350]\tvalidation_0-mlogloss:0.589473\tvalidation_1-mlogloss:0.709579\n",
      "[360]\tvalidation_0-mlogloss:0.585862\tvalidation_1-mlogloss:0.709407\n",
      "[370]\tvalidation_0-mlogloss:0.582606\tvalidation_1-mlogloss:0.709206\n",
      "[380]\tvalidation_0-mlogloss:0.579347\tvalidation_1-mlogloss:0.709037\n",
      "[390]\tvalidation_0-mlogloss:0.576161\tvalidation_1-mlogloss:0.708998\n",
      "[400]\tvalidation_0-mlogloss:0.572982\tvalidation_1-mlogloss:0.708761\n",
      "[410]\tvalidation_0-mlogloss:0.569968\tvalidation_1-mlogloss:0.708688\n",
      "[420]\tvalidation_0-mlogloss:0.566964\tvalidation_1-mlogloss:0.708855\n",
      "Stopping. Best iteration:\n",
      "[410]\tvalidation_0-mlogloss:0.569968\tvalidation_1-mlogloss:0.708688\n",
      "\n",
      "[12:29:48] Allocated 0MB on [0] GeForce GTX 1060 with Max-Q Design, 5015MB remaining.\n"
     ]
    },
    {
     "name": "stderr",
     "output_type": "stream",
     "text": [
      "C:\\Users\\Sourish\\Anaconda3\\lib\\site-packages\\sklearn\\preprocessing\\label.py:151: DeprecationWarning:\n",
      "\n",
      "The truth value of an empty array is ambiguous. Returning False, but in future this will result in an error. Use `array.size > 0` to check that an array is not empty.\n",
      "\n"
     ]
    },
    {
     "name": "stdout",
     "output_type": "stream",
     "text": [
      "Model accuracy is:79.27369353410097%\n",
      "Model error rate is:20.726306465899025%\n"
     ]
    }
   ],
   "source": [
    "#Model train with best hyperparameters\n",
    "\n",
    "xgb_model = XGBClassifier(n_estimators= 500, max_depth = 5, learning_rate=0.03,subsample=0.8,colsample_bytree=0.8, objective= 'multi:softprob',silent = False,tree_method = 'gpu_hist')\n",
    "eval_set  = [(train_X,train_Y), (validation_X,validation_Y)]\n",
    "\n",
    "mod_bst = xgb_model.fit(train_X, train_Y,eval_set=eval_set,early_stopping_rounds=15,verbose = 10,\n",
    "        eval_metric=\"mlogloss\")\n",
    "\n",
    "pred = mod_bst.predict(validation_X)\n",
    "\n",
    "#To calculate multiclass accuracy and misclassification error\n",
    "print('Model accuracy is:{}%'.format(sum(pred==validation_Y)/validation_Y.shape[0]*100)) \n",
    "print('Model error rate is:{}%'.format((1-sum(pred==validation_Y)/validation_Y.shape[0])*100))"
   ]
  },
  {
   "cell_type": "code",
   "execution_count": null,
   "metadata": {},
   "outputs": [],
   "source": [
    "from sklearn.metrics import confusion_matrix \n",
    "from sklearn.metrics import accuracy_score \n",
    "from sklearn.metrics import classification_report\n",
    "results = confusion_matrix(validation_Y, pred) \n",
    "print('Confusion Matrix :')\n",
    "print(results) \n",
    "print('Accuracy Score :',accuracy_score(validation_Y, pred) )\n",
    "print('Report : ')\n",
    "print(classification_report(validation_Y, pred)) "
   ]
  },
  {
   "cell_type": "markdown",
   "metadata": {},
   "source": [
    "###### So now model accuracy is improved from 79.15% to a lift of 79.27%. There are many more hyperparameters(no of trees,regularization parametrs,min_child_weight etc.) of XGBoost and can get even better result.For sake of time I am leaving those options now. Also following cofusion matrix will give us a rough estimation of calsswise misclassification rate and other performance metrics like precision, recall, F1score,support etc."
   ]
  },
  {
   "cell_type": "code",
   "execution_count": 595,
   "metadata": {},
   "outputs": [
    {
     "name": "stdout",
     "output_type": "stream",
     "text": [
      "Confusion Matrix :\n",
      "[[1776    0    0    0    0    0   14    0    0    0    0    0    0    0\n",
      "     0    0]\n",
      " [   0  224    0    0    0    0    1    0    2    0    0    0    0    0\n",
      "     0    1]\n",
      " [   3    0    3    0    0    0    0    5    0    4    0    0    0    2\n",
      "     0   19]\n",
      " [   1    7    0    0    0    0   11    9    1    0    0    0    0    2\n",
      "     0   12]\n",
      " [   0    0    0    0    0    0    1    2    0    3    0    0    0    0\n",
      "     0    6]\n",
      " [   4    5    0    0    0    0    4    4    0    1    1    0    0    4\n",
      "     0   10]\n",
      " [   1    0    0    0    0    0  455    0    0    1    0    0    0    1\n",
      "     0    2]\n",
      " [  10   25    0    0    0    0   53   42    0    4    0    0    0    6\n",
      "     0   73]\n",
      " [   1    5    0    0    0    0    8    0    0    0    0    0    0    0\n",
      "     0    0]\n",
      " [   5    3    1    0    0    0   16    9    0   10    0    0    0    4\n",
      "     0   57]\n",
      " [   3    4    0    0    0    1    9    6    0    1    0    0    0    1\n",
      "     0   21]\n",
      " [   0    3    0    0    0    0    1    2    0    0    0    0    0    0\n",
      "     0   12]\n",
      " [   2    0    0    0    0    0    0    1    0    0    0    0    1    3\n",
      "     0    6]\n",
      " [   9    1    0    0    0    0    0    8    0    2    0    0    0   36\n",
      "     0   38]\n",
      " [   0    0    0    0    1    0    0    4    0    0    0    0    0    1\n",
      "     0   13]\n",
      " [  12   35    1    0    0    0   41   20    0    3    0    0    0   13\n",
      "     0  138]]\n",
      "Accuracy Score : 0.7927369353410098\n",
      "Report : \n"
     ]
    },
    {
     "name": "stderr",
     "output_type": "stream",
     "text": [
      "C:\\Users\\Sourish\\Anaconda3\\lib\\site-packages\\sklearn\\metrics\\classification.py:1135: UndefinedMetricWarning:\n",
      "\n",
      "Precision and F-score are ill-defined and being set to 0.0 in labels with no predicted samples.\n",
      "\n"
     ]
    },
    {
     "name": "stdout",
     "output_type": "stream",
     "text": [
      "             precision    recall  f1-score   support\n",
      "\n",
      "          0       0.97      0.99      0.98      1790\n",
      "          1       0.72      0.98      0.83       228\n",
      "          5       0.60      0.08      0.15        36\n",
      "         36       0.00      0.00      0.00        43\n",
      "         41       0.00      0.00      0.00        12\n",
      "         45       0.00      0.00      0.00        33\n",
      "         56       0.74      0.99      0.85       460\n",
      "         68       0.38      0.20      0.26       213\n",
      "         73       0.00      0.00      0.00        14\n",
      "         78       0.34      0.10      0.15       105\n",
      "         87       0.00      0.00      0.00        46\n",
      "        105       0.00      0.00      0.00        18\n",
      "        117       1.00      0.08      0.14        13\n",
      "        125       0.49      0.38      0.43        94\n",
      "        133       0.00      0.00      0.00        19\n",
      "       1000       0.34      0.52      0.41       263\n",
      "\n",
      "avg / total       0.75      0.79      0.76      3387\n",
      "\n"
     ]
    }
   ],
   "source": [
    "from sklearn.metrics import confusion_matrix \n",
    "from sklearn.metrics import accuracy_score \n",
    "from sklearn.metrics import classification_report\n",
    "results = confusion_matrix(validation_Y, pred) \n",
    "print('Confusion Matrix :')\n",
    "print(results) \n",
    "print('Accuracy Score :',accuracy_score(validation_Y, pred) )\n",
    "print('Report : ')\n",
    "print(classification_report(validation_Y, pred)) "
   ]
  },
  {
   "cell_type": "code",
   "execution_count": 624,
   "metadata": {},
   "outputs": [
    {
     "data": {
      "text/plain": [
       "['model.dat']"
      ]
     },
     "execution_count": 624,
     "metadata": {},
     "output_type": "execute_result"
    }
   ],
   "source": [
    "#Writing prediction and saving the model\n",
    "from sklearn.externals import joblib\n",
    "pd.DataFrame(pred).to_csv('prediction.csv')\n",
    "joblib.dump(mod_bst, 'model.dat') "
   ]
  },
  {
   "cell_type": "markdown",
   "metadata": {},
   "source": [
    "###### We can see which vriables are important from variable of importance plot"
   ]
  },
  {
   "cell_type": "code",
   "execution_count": 597,
   "metadata": {},
   "outputs": [
    {
     "data": {
      "image/png": "[encoded data removed]",
      "text/plain": [
       "<Figure size 432x288 with 1 Axes>"
      ]
     },
     "metadata": {},
     "output_type": "display_data"
    }
   ],
   "source": [
    "# plot feature importance\n",
    "from xgboost import plot_importance\n",
    "from matplotlib import pyplot\n",
    "plot_importance(mod_bst)\n",
    "pyplot.show()"
   ]
  },
  {
   "cell_type": "markdown",
   "metadata": {},
   "source": [
    "From these plots we can see that Customer age is the most importance variable for the model followed by Vehicle price(AED), type of vehicle(engine size). Also Customer's policy information(TOTAL_MOTOR_POLICY_COUNT,CASUALTY_POLICY_COUNT), other demographic information(NUM_OF_ADD) and source of policy(Country name where the policy was issued) also play pivotal role in predicting customer's nationality."
   ]
  },
  {
   "cell_type": "markdown",
   "metadata": {},
   "source": [
    "- ### Further Improvement in Prediction Accuracy(For sake of time I left these options, however worth trying)\n",
    "\n",
    "###### A)  Build predictive models using other ML techniques like RF,SVM,GBM etc and compare the performance\n",
    "\n",
    "###### B) Model Stacking: To improve the accuracy further we can take ensemble of models approach, in which can take simple of weighted(weight defined by normal logistic regression model)scores, as final prediction scores and then find the class for which prediction score is maximum.\n",
    "\n",
    "###### C) Segmented Modelling: We can first predict Known and Unknown(UNK) nationality first from a binary classifier and then to use a muliclass classifier to predict nationality class of Known nationality.\n",
    "\n",
    "###### D) Also we can use vehicle related features- Vehicle makes(geographical cluster of vehicle makes), vehicle model(grouping based on makes and type of model) and other vehicle features(from PLC_DTL_VEH_VERSION)"
   ]
  },
  {
   "cell_type": "markdown",
   "metadata": {},
   "source": [
    "#### Annexure1- I did some further deep dive to get an understanding unknown(UNK) nationality. These are not in the scope of the defined questions.  "
   ]
  },
  {
   "cell_type": "code",
   "execution_count": null,
   "metadata": {},
   "outputs": [],
   "source": [
    "#Some insight about nationality Known and UNK(Unknown) in terms of vehicle price\n",
    "\n",
    "#Nationality group\n",
    "group = pd.Series([])\n",
    "for i in tqdm(range(data.shape[0])):\n",
    "    if data['CO_NATLY_CNTY_CODE'][i]==0:\n",
    "        group[i]='UNK' \n",
    "    else:\n",
    "        group[i]='Known' \n",
    "data['nation_group'] = group \n",
    "data = pd.read_csv('D:/data_science/axa_assessment/data_make_nationality_corrected_price_nat_gr.csv')"
   ]
  },
  {
   "cell_type": "code",
   "execution_count": 614,
   "metadata": {},
   "outputs": [
    {
     "name": "stdout",
     "output_type": "stream",
     "text": [
      "              PLC_DTL_VEH_PRICE_AED\n",
      "nation_group                       \n",
      "Known                 529189.891611\n",
      "UNK                    79620.522148\n"
     ]
    },
    {
     "data": {
      "text/plain": [
       "Text(0.5,1,'Natioanlity Type')"
      ]
     },
     "execution_count": 614,
     "metadata": {},
     "output_type": "execute_result"
    },
    {
     "data": {
      "image/png": "[encoded data removed]",
      "text/plain": [
       "<Figure size 432x288 with 1 Axes>"
      ]
     },
     "metadata": {},
     "output_type": "display_data"
    }
   ],
   "source": [
    "#Check Whether there is a difference between UNK and Known nationality in terms of vehicle price\n",
    "print(data[['PLC_DTL_VEH_PRICE_AED', 'nation_group']].groupby(['nation_group']).mean())\n",
    "\n",
    "t = data[['PLC_DTL_VEH_PRICE_AED', 'nation_group']].groupby(['nation_group']).mean()\n",
    "objects = ('Known','UNK')\n",
    "plt.bar(objects, t['PLC_DTL_VEH_PRICE_AED'], align='center', alpha=0.5)\n",
    "plt.xticks(y_pos, objects)\n",
    "plt.ylabel('PLC_DTL_VEH_PRICE_AED')\n",
    "plt.title('Natioanlity Type')"
   ]
  },
  {
   "cell_type": "code",
   "execution_count": 615,
   "metadata": {},
   "outputs": [
    {
     "name": "stdout",
     "output_type": "stream",
     "text": [
      "AED_group         High       Low       Med  SuperHigh  VeryHigh\n",
      "nation_group                                                   \n",
      "Known         0.099962  0.078847  0.082627   0.105572  0.089862\n",
      "UNK           0.100050  0.121371  0.117178   0.094439  0.110091\n"
     ]
    },
    {
     "data": {
      "image/png": "[encoded data removed]",
      "text/plain": [
       "<Figure size 432x288 with 1 Axes>"
      ]
     },
     "metadata": {},
     "output_type": "display_data"
    }
   ],
   "source": [
    "#Out of UNK and Known of nationality Which category buys more % of super expensive cars\n",
    "#Is there a difference between UNK and Known nationality in terms of type of vehicle buy based on price\n",
    "data = data.sort_values(['PLC_DTL_VEH_PRICE_AED'], ascending=True)\n",
    "temp3 = pd.crosstab(data['nation_group'], data['AED_group'], normalize=True)\n",
    "temp3.plot(kind='bar', stacked=True, color=['red','blue','green','yellow','orange'], grid=False)\n",
    "print(temp3)"
   ]
  },
  {
   "cell_type": "code",
   "execution_count": 616,
   "metadata": {},
   "outputs": [
    {
     "name": "stderr",
     "output_type": "stream",
     "text": [
      "C:\\Users\\Sourish\\Anaconda3\\lib\\site-packages\\ipykernel_launcher.py:5: DeprecationWarning:\n",
      "\n",
      "\n",
      ".ix is deprecated. Please use\n",
      ".loc for label based indexing or\n",
      ".iloc for positional indexing\n",
      "\n",
      "See the documentation here:\n",
      "http://pandas.pydata.org/pandas-docs/stable/indexing.html#ix-indexer-is-deprecated\n",
      "\n"
     ]
    },
    {
     "name": "stdout",
     "output_type": "stream",
     "text": [
      "AED_group     High   Low   Med  SuperHigh  VeryHigh\n",
      "nation_group                                       \n",
      "Known         3385  2670  2798       3575      3043\n",
      "UNK           3388  4110  3968       3198      3728\n"
     ]
    },
    {
     "name": "stderr",
     "output_type": "stream",
     "text": [
      "C:\\Users\\Sourish\\Anaconda3\\lib\\site-packages\\ipykernel_launcher.py:8: DeprecationWarning:\n",
      "\n",
      "\n",
      ".ix is deprecated. Please use\n",
      ".loc for label based indexing or\n",
      ".iloc for positional indexing\n",
      "\n",
      "See the documentation here:\n",
      "http://pandas.pydata.org/pandas-docs/stable/indexing.html#ix-indexer-is-deprecated\n",
      "\n"
     ]
    },
    {
     "name": "stdout",
     "output_type": "stream",
     "text": [
      "              High         Low          Med    SuperHigh     VeryHigh\n",
      "Known  3094.382748  3097.58084  3091.184656  3094.382748  3093.469007\n",
      "UNK    3678.617252  3682.41916  3674.815344  3678.617252  3677.530993\n",
      "chi_squared_stat\n",
      "349.080186799536\n",
      "Critical value\n",
      "9.487729036781154\n",
      "P value\n",
      "0.0\n"
     ]
    }
   ],
   "source": [
    "#There is some difference in distribution of purchased vehicle price between two broad nationality types- UNK and Known  \n",
    "#For Un\n",
    "#Let's do Chi-Squared Test of Independence to check whether these differences is statistically significant or not\n",
    "cross_tab = pd.crosstab(data['nation_group'], data['AED_group'], margins=True)\n",
    "observed = cross_tab.ix[0:2,0:5]\n",
    "print(observed)\n",
    "expected =  np.outer(cross_tab[\"All\"][0:2],\n",
    "                     cross_tab.ix[\"All\"][0:5]) / 33863\n",
    "\n",
    "expected = pd.DataFrame(expected)\n",
    "expected.columns = ['High','Low','Med','SuperHigh','VeryHigh']\n",
    "expected.index = ['Known','UNK']\n",
    "print(expected)\n",
    "from scipy.stats import chi2\n",
    "chi_squared_stat  = (((observed-expected)**2)/expected).sum().sum()\n",
    "print('chi_squared_stat')\n",
    "print(chi_squared_stat)\n",
    "crit = chi2.ppf(q = 0.95, # Find the critical value for 95% confidence*\n",
    "                      df = 4)   # df = (row-1)*(column-1)\n",
    "print(\"Critical value\")\n",
    "print(crit)\n",
    "\n",
    "p_value = 1 - chi2.cdf(x=chi_squared_stat,  # Find the p-value\n",
    "                             df=4)\n",
    "print(\"P value\")\n",
    "print(p_value)"
   ]
  },
  {
   "cell_type": "code",
   "execution_count": null,
   "metadata": {},
   "outputs": [],
   "source": []
  }
 ],
 "metadata": {
  "kernelspec": {
   "display_name": "Python 3",
   "language": "python",
   "name": "python3"
  },
  "language_info": {
   "codemirror_mode": {
    "name": "ipython",
    "version": 3
   },
   "file_extension": ".py",
   "mimetype": "text/x-python",
   "name": "python",
   "nbconvert_exporter": "python",
   "pygments_lexer": "ipython3",
   "version": "3.6.5"
  }
 },
 "nbformat": 4,
 "nbformat_minor": 2
}
